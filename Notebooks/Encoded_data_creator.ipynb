{
  "cells": [
    {
      "cell_type": "code",
      "source": [
        "from google.colab import drive\n",
        "drive.mount('/content/drive')"
      ],
      "metadata": {
        "id": "wFXS1WLHiWha"
      },
      "execution_count": null,
      "outputs": []
    },
    {
      "cell_type": "code",
      "execution_count": null,
      "metadata": {
        "id": "yTWzRJy9XAdH"
      },
      "outputs": [],
      "source": [
        "import tarfile"
      ]
    },
    {
      "cell_type": "code",
      "execution_count": null,
      "metadata": {
        "id": "TXhkGSOhpDnf"
      },
      "outputs": [],
      "source": [
        "with tarfile.open('/content/drive/MyDrive/dataset.tar.gz') as f:\n",
        "  f.extractall()"
      ]
    },
    {
      "cell_type": "code",
      "execution_count": null,
      "metadata": {
        "id": "mvkNrIhcXoIR"
      },
      "outputs": [],
      "source": [
        "import tensorflow as tf\n",
        "from tensorflow.keras.applications.mobilenet_v2 import MobileNetV2\n",
        "import numpy as np"
      ]
    },
    {
      "cell_type": "code",
      "execution_count": null,
      "metadata": {
        "id": "DVqziIkA3nEr"
      },
      "outputs": [],
      "source": [
        "model = MobileNetV2(alpha=1.0,include_top=False, weights='imagenet', pooling='avg', input_shape = (96,96,3))"
      ]
    },
    {
      "cell_type": "code",
      "execution_count": null,
      "metadata": {
        "id": "RvTFTVD74RS9"
      },
      "outputs": [],
      "source": [
        "model.summary()"
      ]
    },
    {
      "cell_type": "code",
      "execution_count": null,
      "metadata": {
        "id": "FeEfLuEnoYgZ"
      },
      "outputs": [],
      "source": [
        "train_ds = tf.keras.utils.image_dataset_from_directory('./Dataset/val', seed=0, image_size=(96, 96), batch_size=32)"
      ]
    },
    {
      "cell_type": "code",
      "source": [
        "mapping = train_ds.class_names"
      ],
      "metadata": {
        "id": "0ZTrH4xHimCC"
      },
      "execution_count": null,
      "outputs": []
    },
    {
      "cell_type": "code",
      "execution_count": null,
      "metadata": {
        "id": "6vneNQ23oYdi"
      },
      "outputs": [],
      "source": [
        "for i, (x, y) in enumerate(train_ds.as_numpy_iterator()):\n",
        "  enc_images = model.predict(x)\n",
        "  y = np.array(list(map(lambda x: mapping[x], y)))\n",
        "  batch = np.concatenate((enc_images, y.reshape(-1, 1)), axis = 1)\n",
        "  with open('val_encoded_data.csv', 'a') as f:\n",
        "    np.savetxt(f, batch, delimiter = ',', fmt = '%s')"
      ]
    },
    {
      "cell_type": "code",
      "execution_count": null,
      "metadata": {
        "id": "zX-KSydgpDeo"
      },
      "outputs": [],
      "source": [
        "import shutil\n",
        "shutil.copy('encoded_data.csv', '/content/drive/MyDrive')"
      ]
    }
  ],
  "metadata": {
    "colab": {
      "provenance": []
    },
    "kernelspec": {
      "display_name": "Python 3",
      "name": "python3"
    },
    "language_info": {
      "name": "python"
    }
  },
  "nbformat": 4,
  "nbformat_minor": 0
}