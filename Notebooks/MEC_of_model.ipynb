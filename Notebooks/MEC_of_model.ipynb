{
  "cells": [
    {
      "cell_type": "markdown",
      "metadata": {
        "id": "Gmc50UOJmmzZ"
      },
      "source": [
        "# Memory Equivalent Capacity (MEC)\n",
        "\n",
        "This notebook is used for calculation and documentation of the model MEC. \n",
        "\n",
        "The calculation of MEC in our model only looks at the classifier section. This means that the feature extraction from images performed by the CNN will be included. This means that the generalization of the model will be calculated through a comparison between the information content of the latent embedding"
      ]
    },
    {
      "cell_type": "code",
      "execution_count": null,
      "metadata": {
        "id": "m0JRB-qVc3uq"
      },
      "outputs": [],
      "source": [
        "import tensorflow as tf\n",
        "import tensorflow.keras as keras"
      ]
    },
    {
      "cell_type": "code",
      "execution_count": null,
      "metadata": {
        "id": "uU7xY9oIc43S",
        "colab": {
          "base_uri": "https://localhost:8080/"
        },
        "outputId": "046bfe95-dfa8-4071-c36a-a7177d6c7f08"
      },
      "outputs": [
        {
          "output_type": "stream",
          "name": "stdout",
          "text": [
            "Downloading data from https://storage.googleapis.com/tensorflow/keras-applications/mobilenet_v2/mobilenet_v2_weights_tf_dim_ordering_tf_kernels_1.0_224.h5\n",
            "14536120/14536120 [==============================] - 0s 0us/step\n"
          ]
        }
      ],
      "source": [
        "model = tf.keras.applications.MobileNetV2(\n",
        "    alpha=1.0,\n",
        ")"
      ]
    },
    {
      "cell_type": "code",
      "execution_count": null,
      "metadata": {
        "colab": {
          "base_uri": "https://localhost:8080/"
        },
        "id": "3wDYhcuLdmrw",
        "outputId": "bc877b96-6687-41c2-974c-9227565d5290"
      },
      "outputs": [
        {
          "output_type": "execute_result",
          "data": {
            "text/plain": [
              "((None, 1280), (None, 1000))"
            ]
          },
          "metadata": {},
          "execution_count": 3
        }
      ],
      "source": [
        "model.layers[-1].input_shape, model.layers[-1].output_shape\n"
      ]
    },
    {
      "cell_type": "markdown",
      "metadata": {
        "id": "-mLoCDH0nHqz"
      },
      "source": [
        "We see that the output features of the model is $1280$ which will be the number of input features for the linear model"
      ]
    },
    {
      "cell_type": "markdown",
      "metadata": {
        "id": "Y-7SxrjIpFD5"
      },
      "source": [
        "The MEC of the model is defined as in section 7.2 in the book\n",
        "\n",
        "In summary, derived four engineering rules to determine the Memory-equivalent\n",
        "Capacity of a neural network:\n",
        "1. The output of a single neuron yields maximally one bit of information.\n",
        "2. The capacity of a single neuron is the number of its parameters (weights and threshold) in bits.\n",
        "3. The total capacity $C_{tot}$ of $M$ neurons in parallel is $C_{tot} = \\sum^M_{C_i}$ where $C_i$ is the capacity of each neuron.\n",
        "\n",
        "4. For perceptrons in series (e.g., in subsequent layers), the capacity of a subsequent\n",
        "layer cannot be larger than the output of the previous layer."
      ]
    },
    {
      "cell_type": "code",
      "execution_count": null,
      "metadata": {
        "id": "8UhDBuVAdpHs"
      },
      "outputs": [],
      "source": [
        "# Only works for dense layer\n",
        "def mec_of_linear_layer(layer):\n",
        "    assert isinstance(layer, keras.layers.Dense), \"Only works for dense layers\"\n",
        "    # Zero is weights, 1 is bias\n",
        "    in_shape, out_shape = layer.get_weights()[0].shape\n",
        "    cap_neuron=out_shape\n",
        "    if type(layer.bias)!=type(None):\n",
        "        in_shape+=1\n",
        "    return cap_neuron*in_shape"
      ]
    },
    {
      "cell_type": "markdown",
      "metadata": {
        "id": "tST7NT8vLFtE"
      },
      "source": [
        "**Calculate MEC**"
      ]
    },
    {
      "cell_type": "code",
      "execution_count": null,
      "metadata": {
        "colab": {
          "base_uri": "https://localhost:8080/"
        },
        "id": "Jz9HyDLtLHu8",
        "outputId": "ab9ff75d-5673-4b47-cdac-676f84e73eb0"
      },
      "outputs": [
        {
          "output_type": "stream",
          "name": "stdout",
          "text": [
            "Model has 1281000 bits of capacity or 156.282kB or 0.1526952 mB\n"
          ]
        }
      ],
      "source": [
        "MEC = mec_of_linear_layer(model.layers[-1])\n",
        "print(f\"Model has {MEC} bits of capacity or {MEC*0.000122}kB or {MEC*(1.192e-7)} mB\")"
      ]
    },
    {
      "cell_type": "markdown",
      "metadata": {
        "id": "Fg5F5vmmLom4"
      },
      "source": [
        "### Width multiplier\n",
        "\n",
        "\n",
        "<i><u>The original paper except</u></i>\n",
        "\n",
        "\n",
        "Although the base MobileNet architecture is already small and low latency, many times a specific use case or application may require the model to be smaller and faster.\n",
        "In order to construct these smaller and less computationally expensive models we introduce a very simple parameter $\\alpha$ called width multiplier. The role of the width multiplier $\\alpha$ is to thin a network uniformly at each layer. For a given layer and width multiplier $\\alpha$, the number of input channels $M$ becomes $\\alpha M$ and the number of output channels $N$ becomes $\\alpha N$.\n",
        "\n",
        "The computational cost of a depthwise separable convolution with width multiplier $\\alpha$ is:\n",
        "\n",
        "$D_K\\cdot D_K\\cdot \\alpha M \\cdot D_F\\cdot D_F\\cdot + \\alpha M \\cdot \\alpha N \\cdot D_F \\cdot D_F$\n",
        "\n",
        "where $\\alpha \\in (0, 1]$ with typical settings of 1, 0.75, 0.5 and\n",
        "0.25. $\\alpha = 1$ is the baseline MobileNet and $\\alpha < 1$ are\n",
        "reduced MobileNets. Width multiplier has the effect of reducing computational cost and the number of parameters quadratically by roughly $\\alpha^2$. Width multiplier can be applied to any model structure to define a new smaller model with a reasonable accuracy, latency and size trade off. It is used to define a new reduced structure that needs to be trained from scratch.\n",
        "\n",
        "\n"
      ]
    },
    {
      "cell_type": "code",
      "execution_count": null,
      "metadata": {
        "id": "sf6dS-dXLr4w"
      },
      "outputs": [],
      "source": [
        "import plotly.express as px\n",
        "import pandas as pd"
      ]
    },
    {
      "cell_type": "code",
      "execution_count": null,
      "metadata": {
        "colab": {
          "base_uri": "https://localhost:8080/"
        },
        "id": "Qi-MNVlTLszy",
        "outputId": "f7034870-8f39-4eb0-c5f0-92493f95512a"
      },
      "outputs": [
        {
          "output_type": "stream",
          "name": "stdout",
          "text": [
            "Downloading data from https://storage.googleapis.com/tensorflow/keras-applications/mobilenet_v2/mobilenet_v2_weights_tf_dim_ordering_tf_kernels_0.35_224.h5\n",
            "7149872/7149872 [==============================] - 0s 0us/step\n",
            "Downloading data from https://storage.googleapis.com/tensorflow/keras-applications/mobilenet_v2/mobilenet_v2_weights_tf_dim_ordering_tf_kernels_0.5_224.h5\n",
            "8331712/8331712 [==============================] - 0s 0us/step\n",
            "Downloading data from https://storage.googleapis.com/tensorflow/keras-applications/mobilenet_v2/mobilenet_v2_weights_tf_dim_ordering_tf_kernels_0.75_224.h5\n",
            "11033352/11033352 [==============================] - 0s 0us/step\n",
            "Downloading data from https://storage.googleapis.com/tensorflow/keras-applications/mobilenet_v2/mobilenet_v2_weights_tf_dim_ordering_tf_kernels_1.3_224.h5\n",
            "22107400/22107400 [==============================] - 0s 0us/step\n",
            "Downloading data from https://storage.googleapis.com/tensorflow/keras-applications/mobilenet_v2/mobilenet_v2_weights_tf_dim_ordering_tf_kernels_1.4_224.h5\n",
            "25009072/25009072 [==============================] - 0s 0us/step\n"
          ]
        }
      ],
      "source": [
        "data =[[alpha, mec_of_linear_layer(tf.keras.applications.MobileNetV2(alpha=alpha).layers[-1])] for alpha in [0.35,0.5,0.75,1.0,1.3,1.4]]"
      ]
    },
    {
      "cell_type": "code",
      "execution_count": null,
      "metadata": {
        "id": "uGj4a0sQMJif"
      },
      "outputs": [],
      "source": [
        "df = pd.DataFrame(data, columns=[\"alpha\",\"mec\"])"
      ]
    },
    {
      "cell_type": "code",
      "execution_count": null,
      "metadata": {
        "colab": {
          "base_uri": "https://localhost:8080/",
          "height": 542
        },
        "id": "np224gRWMYFm",
        "outputId": "ad60d90c-e1fd-4dd2-8b0a-6a6d59fbe55b"
      },
      "outputs": [
        {
          "output_type": "display_data",
          "data": {
            "text/html": [
              "<html>\n",
              "<head><meta charset=\"utf-8\" /></head>\n",
              "<body>\n",
              "    <div>            <script src=\"https://cdnjs.cloudflare.com/ajax/libs/mathjax/2.7.5/MathJax.js?config=TeX-AMS-MML_SVG\"></script><script type=\"text/javascript\">if (window.MathJax) {MathJax.Hub.Config({SVG: {font: \"STIX-Web\"}});}</script>                <script type=\"text/javascript\">window.PlotlyConfig = {MathJaxConfig: 'local'};</script>\n",
              "        <script src=\"https://cdn.plot.ly/plotly-2.8.3.min.js\"></script>                <div id=\"a3737dd6-6d42-497d-a193-9725ac77a121\" class=\"plotly-graph-div\" style=\"height:525px; width:100%;\"></div>            <script type=\"text/javascript\">                                    window.PLOTLYENV=window.PLOTLYENV || {};                                    if (document.getElementById(\"a3737dd6-6d42-497d-a193-9725ac77a121\")) {                    Plotly.newPlot(                        \"a3737dd6-6d42-497d-a193-9725ac77a121\",                        [{\"hovertemplate\":\"alpha=%{x}<br>mec=%{y}<extra></extra>\",\"legendgroup\":\"\",\"line\":{\"color\":\"#636efa\",\"dash\":\"solid\"},\"marker\":{\"symbol\":\"circle\"},\"mode\":\"lines\",\"name\":\"\",\"orientation\":\"v\",\"showlegend\":false,\"x\":[0.35,0.5,0.75,1.0,1.3,1.4],\"xaxis\":\"x\",\"y\":[1281000,1281000,1281000,1281000,1665000,1793000],\"yaxis\":\"y\",\"type\":\"scatter\"}],                        {\"template\":{\"data\":{\"bar\":[{\"error_x\":{\"color\":\"#2a3f5f\"},\"error_y\":{\"color\":\"#2a3f5f\"},\"marker\":{\"line\":{\"color\":\"#E5ECF6\",\"width\":0.5},\"pattern\":{\"fillmode\":\"overlay\",\"size\":10,\"solidity\":0.2}},\"type\":\"bar\"}],\"barpolar\":[{\"marker\":{\"line\":{\"color\":\"#E5ECF6\",\"width\":0.5},\"pattern\":{\"fillmode\":\"overlay\",\"size\":10,\"solidity\":0.2}},\"type\":\"barpolar\"}],\"carpet\":[{\"aaxis\":{\"endlinecolor\":\"#2a3f5f\",\"gridcolor\":\"white\",\"linecolor\":\"white\",\"minorgridcolor\":\"white\",\"startlinecolor\":\"#2a3f5f\"},\"baxis\":{\"endlinecolor\":\"#2a3f5f\",\"gridcolor\":\"white\",\"linecolor\":\"white\",\"minorgridcolor\":\"white\",\"startlinecolor\":\"#2a3f5f\"},\"type\":\"carpet\"}],\"choropleth\":[{\"colorbar\":{\"outlinewidth\":0,\"ticks\":\"\"},\"type\":\"choropleth\"}],\"contour\":[{\"colorbar\":{\"outlinewidth\":0,\"ticks\":\"\"},\"colorscale\":[[0.0,\"#0d0887\"],[0.1111111111111111,\"#46039f\"],[0.2222222222222222,\"#7201a8\"],[0.3333333333333333,\"#9c179e\"],[0.4444444444444444,\"#bd3786\"],[0.5555555555555556,\"#d8576b\"],[0.6666666666666666,\"#ed7953\"],[0.7777777777777778,\"#fb9f3a\"],[0.8888888888888888,\"#fdca26\"],[1.0,\"#f0f921\"]],\"type\":\"contour\"}],\"contourcarpet\":[{\"colorbar\":{\"outlinewidth\":0,\"ticks\":\"\"},\"type\":\"contourcarpet\"}],\"heatmap\":[{\"colorbar\":{\"outlinewidth\":0,\"ticks\":\"\"},\"colorscale\":[[0.0,\"#0d0887\"],[0.1111111111111111,\"#46039f\"],[0.2222222222222222,\"#7201a8\"],[0.3333333333333333,\"#9c179e\"],[0.4444444444444444,\"#bd3786\"],[0.5555555555555556,\"#d8576b\"],[0.6666666666666666,\"#ed7953\"],[0.7777777777777778,\"#fb9f3a\"],[0.8888888888888888,\"#fdca26\"],[1.0,\"#f0f921\"]],\"type\":\"heatmap\"}],\"heatmapgl\":[{\"colorbar\":{\"outlinewidth\":0,\"ticks\":\"\"},\"colorscale\":[[0.0,\"#0d0887\"],[0.1111111111111111,\"#46039f\"],[0.2222222222222222,\"#7201a8\"],[0.3333333333333333,\"#9c179e\"],[0.4444444444444444,\"#bd3786\"],[0.5555555555555556,\"#d8576b\"],[0.6666666666666666,\"#ed7953\"],[0.7777777777777778,\"#fb9f3a\"],[0.8888888888888888,\"#fdca26\"],[1.0,\"#f0f921\"]],\"type\":\"heatmapgl\"}],\"histogram\":[{\"marker\":{\"pattern\":{\"fillmode\":\"overlay\",\"size\":10,\"solidity\":0.2}},\"type\":\"histogram\"}],\"histogram2d\":[{\"colorbar\":{\"outlinewidth\":0,\"ticks\":\"\"},\"colorscale\":[[0.0,\"#0d0887\"],[0.1111111111111111,\"#46039f\"],[0.2222222222222222,\"#7201a8\"],[0.3333333333333333,\"#9c179e\"],[0.4444444444444444,\"#bd3786\"],[0.5555555555555556,\"#d8576b\"],[0.6666666666666666,\"#ed7953\"],[0.7777777777777778,\"#fb9f3a\"],[0.8888888888888888,\"#fdca26\"],[1.0,\"#f0f921\"]],\"type\":\"histogram2d\"}],\"histogram2dcontour\":[{\"colorbar\":{\"outlinewidth\":0,\"ticks\":\"\"},\"colorscale\":[[0.0,\"#0d0887\"],[0.1111111111111111,\"#46039f\"],[0.2222222222222222,\"#7201a8\"],[0.3333333333333333,\"#9c179e\"],[0.4444444444444444,\"#bd3786\"],[0.5555555555555556,\"#d8576b\"],[0.6666666666666666,\"#ed7953\"],[0.7777777777777778,\"#fb9f3a\"],[0.8888888888888888,\"#fdca26\"],[1.0,\"#f0f921\"]],\"type\":\"histogram2dcontour\"}],\"mesh3d\":[{\"colorbar\":{\"outlinewidth\":0,\"ticks\":\"\"},\"type\":\"mesh3d\"}],\"parcoords\":[{\"line\":{\"colorbar\":{\"outlinewidth\":0,\"ticks\":\"\"}},\"type\":\"parcoords\"}],\"pie\":[{\"automargin\":true,\"type\":\"pie\"}],\"scatter\":[{\"marker\":{\"colorbar\":{\"outlinewidth\":0,\"ticks\":\"\"}},\"type\":\"scatter\"}],\"scatter3d\":[{\"line\":{\"colorbar\":{\"outlinewidth\":0,\"ticks\":\"\"}},\"marker\":{\"colorbar\":{\"outlinewidth\":0,\"ticks\":\"\"}},\"type\":\"scatter3d\"}],\"scattercarpet\":[{\"marker\":{\"colorbar\":{\"outlinewidth\":0,\"ticks\":\"\"}},\"type\":\"scattercarpet\"}],\"scattergeo\":[{\"marker\":{\"colorbar\":{\"outlinewidth\":0,\"ticks\":\"\"}},\"type\":\"scattergeo\"}],\"scattergl\":[{\"marker\":{\"colorbar\":{\"outlinewidth\":0,\"ticks\":\"\"}},\"type\":\"scattergl\"}],\"scattermapbox\":[{\"marker\":{\"colorbar\":{\"outlinewidth\":0,\"ticks\":\"\"}},\"type\":\"scattermapbox\"}],\"scatterpolar\":[{\"marker\":{\"colorbar\":{\"outlinewidth\":0,\"ticks\":\"\"}},\"type\":\"scatterpolar\"}],\"scatterpolargl\":[{\"marker\":{\"colorbar\":{\"outlinewidth\":0,\"ticks\":\"\"}},\"type\":\"scatterpolargl\"}],\"scatterternary\":[{\"marker\":{\"colorbar\":{\"outlinewidth\":0,\"ticks\":\"\"}},\"type\":\"scatterternary\"}],\"surface\":[{\"colorbar\":{\"outlinewidth\":0,\"ticks\":\"\"},\"colorscale\":[[0.0,\"#0d0887\"],[0.1111111111111111,\"#46039f\"],[0.2222222222222222,\"#7201a8\"],[0.3333333333333333,\"#9c179e\"],[0.4444444444444444,\"#bd3786\"],[0.5555555555555556,\"#d8576b\"],[0.6666666666666666,\"#ed7953\"],[0.7777777777777778,\"#fb9f3a\"],[0.8888888888888888,\"#fdca26\"],[1.0,\"#f0f921\"]],\"type\":\"surface\"}],\"table\":[{\"cells\":{\"fill\":{\"color\":\"#EBF0F8\"},\"line\":{\"color\":\"white\"}},\"header\":{\"fill\":{\"color\":\"#C8D4E3\"},\"line\":{\"color\":\"white\"}},\"type\":\"table\"}]},\"layout\":{\"annotationdefaults\":{\"arrowcolor\":\"#2a3f5f\",\"arrowhead\":0,\"arrowwidth\":1},\"autotypenumbers\":\"strict\",\"coloraxis\":{\"colorbar\":{\"outlinewidth\":0,\"ticks\":\"\"}},\"colorscale\":{\"diverging\":[[0,\"#8e0152\"],[0.1,\"#c51b7d\"],[0.2,\"#de77ae\"],[0.3,\"#f1b6da\"],[0.4,\"#fde0ef\"],[0.5,\"#f7f7f7\"],[0.6,\"#e6f5d0\"],[0.7,\"#b8e186\"],[0.8,\"#7fbc41\"],[0.9,\"#4d9221\"],[1,\"#276419\"]],\"sequential\":[[0.0,\"#0d0887\"],[0.1111111111111111,\"#46039f\"],[0.2222222222222222,\"#7201a8\"],[0.3333333333333333,\"#9c179e\"],[0.4444444444444444,\"#bd3786\"],[0.5555555555555556,\"#d8576b\"],[0.6666666666666666,\"#ed7953\"],[0.7777777777777778,\"#fb9f3a\"],[0.8888888888888888,\"#fdca26\"],[1.0,\"#f0f921\"]],\"sequentialminus\":[[0.0,\"#0d0887\"],[0.1111111111111111,\"#46039f\"],[0.2222222222222222,\"#7201a8\"],[0.3333333333333333,\"#9c179e\"],[0.4444444444444444,\"#bd3786\"],[0.5555555555555556,\"#d8576b\"],[0.6666666666666666,\"#ed7953\"],[0.7777777777777778,\"#fb9f3a\"],[0.8888888888888888,\"#fdca26\"],[1.0,\"#f0f921\"]]},\"colorway\":[\"#636efa\",\"#EF553B\",\"#00cc96\",\"#ab63fa\",\"#FFA15A\",\"#19d3f3\",\"#FF6692\",\"#B6E880\",\"#FF97FF\",\"#FECB52\"],\"font\":{\"color\":\"#2a3f5f\"},\"geo\":{\"bgcolor\":\"white\",\"lakecolor\":\"white\",\"landcolor\":\"#E5ECF6\",\"showlakes\":true,\"showland\":true,\"subunitcolor\":\"white\"},\"hoverlabel\":{\"align\":\"left\"},\"hovermode\":\"closest\",\"mapbox\":{\"style\":\"light\"},\"paper_bgcolor\":\"white\",\"plot_bgcolor\":\"#E5ECF6\",\"polar\":{\"angularaxis\":{\"gridcolor\":\"white\",\"linecolor\":\"white\",\"ticks\":\"\"},\"bgcolor\":\"#E5ECF6\",\"radialaxis\":{\"gridcolor\":\"white\",\"linecolor\":\"white\",\"ticks\":\"\"}},\"scene\":{\"xaxis\":{\"backgroundcolor\":\"#E5ECF6\",\"gridcolor\":\"white\",\"gridwidth\":2,\"linecolor\":\"white\",\"showbackground\":true,\"ticks\":\"\",\"zerolinecolor\":\"white\"},\"yaxis\":{\"backgroundcolor\":\"#E5ECF6\",\"gridcolor\":\"white\",\"gridwidth\":2,\"linecolor\":\"white\",\"showbackground\":true,\"ticks\":\"\",\"zerolinecolor\":\"white\"},\"zaxis\":{\"backgroundcolor\":\"#E5ECF6\",\"gridcolor\":\"white\",\"gridwidth\":2,\"linecolor\":\"white\",\"showbackground\":true,\"ticks\":\"\",\"zerolinecolor\":\"white\"}},\"shapedefaults\":{\"line\":{\"color\":\"#2a3f5f\"}},\"ternary\":{\"aaxis\":{\"gridcolor\":\"white\",\"linecolor\":\"white\",\"ticks\":\"\"},\"baxis\":{\"gridcolor\":\"white\",\"linecolor\":\"white\",\"ticks\":\"\"},\"bgcolor\":\"#E5ECF6\",\"caxis\":{\"gridcolor\":\"white\",\"linecolor\":\"white\",\"ticks\":\"\"}},\"title\":{\"x\":0.05},\"xaxis\":{\"automargin\":true,\"gridcolor\":\"white\",\"linecolor\":\"white\",\"ticks\":\"\",\"title\":{\"standoff\":15},\"zerolinecolor\":\"white\",\"zerolinewidth\":2},\"yaxis\":{\"automargin\":true,\"gridcolor\":\"white\",\"linecolor\":\"white\",\"ticks\":\"\",\"title\":{\"standoff\":15},\"zerolinecolor\":\"white\",\"zerolinewidth\":2}}},\"xaxis\":{\"anchor\":\"y\",\"domain\":[0.0,1.0],\"title\":{\"text\":\"alpha\"}},\"yaxis\":{\"anchor\":\"x\",\"domain\":[0.0,1.0],\"title\":{\"text\":\"mec\"}},\"legend\":{\"tracegroupgap\":0},\"title\":{\"text\":\"MEC as function of Alpha\"}},                        {\"responsive\": true}                    ).then(function(){\n",
              "                            \n",
              "var gd = document.getElementById('a3737dd6-6d42-497d-a193-9725ac77a121');\n",
              "var x = new MutationObserver(function (mutations, observer) {{\n",
              "        var display = window.getComputedStyle(gd).display;\n",
              "        if (!display || display === 'none') {{\n",
              "            console.log([gd, 'removed!']);\n",
              "            Plotly.purge(gd);\n",
              "            observer.disconnect();\n",
              "        }}\n",
              "}});\n",
              "\n",
              "// Listen for the removal of the full notebook cells\n",
              "var notebookContainer = gd.closest('#notebook-container');\n",
              "if (notebookContainer) {{\n",
              "    x.observe(notebookContainer, {childList: true});\n",
              "}}\n",
              "\n",
              "// Listen for the clearing of the current output cell\n",
              "var outputEl = gd.closest('.output');\n",
              "if (outputEl) {{\n",
              "    x.observe(outputEl, {childList: true});\n",
              "}}\n",
              "\n",
              "                        })                };                            </script>        </div>\n",
              "</body>\n",
              "</html>"
            ]
          },
          "metadata": {}
        }
      ],
      "source": [
        "px.line(df, x=\"alpha\",y=\"mec\", title=\"MEC as function of Alpha\")"
      ]
    },
    {
      "cell_type": "markdown",
      "source": [
        "## Small Imagenet Models MEC\n",
        "\n",
        "This part of the notebook will look at comparing the MEC of various small backbone architectures against MobileNetV2. \n",
        "\n",
        "This will result in a table containing\n",
        "\n",
        "Model MEC, Model Name, Top 1 Accuracy"
      ],
      "metadata": {
        "id": "Sy56X-YOlXvF"
      }
    },
    {
      "cell_type": "markdown",
      "source": [
        "### nets"
      ],
      "metadata": {
        "id": "ZHlGiCvUmGUl"
      }
    },
    {
      "cell_type": "code",
      "execution_count": null,
      "metadata": {
        "id": "wkFxwwFgovS0"
      },
      "outputs": [],
      "source": [
        "from tensorflow.keras.applications import ResNet50V2, ResNet101V2, DenseNet121, DenseNet169, NASNetMobile, EfficientNetB2, NASNetLarge"
      ]
    },
    {
      "cell_type": "code",
      "source": [
        "data = []"
      ],
      "metadata": {
        "id": "K4b9FwDUm1Ni"
      },
      "execution_count": null,
      "outputs": []
    },
    {
      "cell_type": "markdown",
      "source": [
        "**ResNet50V2**"
      ],
      "metadata": {
        "id": "jDOr-nzioHnH"
      }
    },
    {
      "cell_type": "code",
      "source": [
        "model=ResNet50V2()"
      ],
      "metadata": {
        "id": "2o7YKsAWm2sz",
        "colab": {
          "base_uri": "https://localhost:8080/"
        },
        "outputId": "cbb755cc-8051-43d5-89cb-348e2c4cf651"
      },
      "execution_count": null,
      "outputs": [
        {
          "output_type": "stream",
          "name": "stdout",
          "text": [
            "Downloading data from https://storage.googleapis.com/tensorflow/keras-applications/resnet/resnet50v2_weights_tf_dim_ordering_tf_kernels.h5\n",
            "102869336/102869336 [==============================] - 5s 0us/step\n"
          ]
        }
      ]
    },
    {
      "cell_type": "code",
      "source": [
        "model.layers[-5:]"
      ],
      "metadata": {
        "colab": {
          "base_uri": "https://localhost:8080/"
        },
        "id": "t1-uNYJdgeJs",
        "outputId": "0ded11a7-bdd4-4070-ae6e-172d7f54d161"
      },
      "execution_count": null,
      "outputs": [
        {
          "output_type": "execute_result",
          "data": {
            "text/plain": [
              "[<keras.layers.merging.add.Add at 0x7f9d7bca2760>,\n",
              " <keras.layers.normalization.batch_normalization.BatchNormalization at 0x7f9d7bca22e0>,\n",
              " <keras.layers.core.activation.Activation at 0x7f9d7bc869a0>,\n",
              " <keras.layers.pooling.global_average_pooling2d.GlobalAveragePooling2D at 0x7f9d7bc35100>,\n",
              " <keras.layers.core.dense.Dense at 0x7f9d7bca2460>]"
            ]
          },
          "metadata": {},
          "execution_count": 5
        }
      ]
    },
    {
      "cell_type": "markdown",
      "source": [
        "Only a dense layer at the end. We use the convolutional trick"
      ],
      "metadata": {
        "id": "lkWOnz02nZRu"
      }
    },
    {
      "cell_type": "code",
      "source": [
        "MEC = mec_of_linear_layer(model.layers[-1])\n",
        "print(f\"Model has {MEC} bits of capacity or {MEC*0.000122}kB or {MEC*(1.192e-7)} mB\")"
      ],
      "metadata": {
        "colab": {
          "base_uri": "https://localhost:8080/"
        },
        "id": "q7Y8DGR5m9V2",
        "outputId": "a21f15fb-293a-4706-eddc-98d67bb1b32b"
      },
      "execution_count": null,
      "outputs": [
        {
          "output_type": "stream",
          "name": "stdout",
          "text": [
            "Model has 2049000 bits of capacity or 249.978kB or 0.24424079999999998 mB\n"
          ]
        }
      ]
    },
    {
      "cell_type": "code",
      "source": [
        "# acc from keras website\n",
        "data.append([\"ResNet50V2\", MEC, 76.0])"
      ],
      "metadata": {
        "id": "skNUly3fnMF5"
      },
      "execution_count": null,
      "outputs": []
    },
    {
      "cell_type": "markdown",
      "source": [
        "**ResNet101V2**"
      ],
      "metadata": {
        "id": "PjvGR6HKoKG_"
      }
    },
    {
      "cell_type": "code",
      "source": [
        "model=ResNet101V2()"
      ],
      "metadata": {
        "id": "C4Rpd_Egnu2P"
      },
      "execution_count": null,
      "outputs": []
    },
    {
      "cell_type": "code",
      "source": [
        "model.layers[-5:]"
      ],
      "metadata": {
        "colab": {
          "base_uri": "https://localhost:8080/"
        },
        "id": "bI0n7N6Tnw5b",
        "outputId": "73c39e31-8b47-42b3-ab79-572b0abc6cfa"
      },
      "execution_count": null,
      "outputs": [
        {
          "output_type": "execute_result",
          "data": {
            "text/plain": [
              "[<keras.layers.merging.add.Add at 0x7f51ec4169d0>,\n",
              " <keras.layers.normalization.batch_normalization.BatchNormalization at 0x7f51ec45ed90>,\n",
              " <keras.layers.core.activation.Activation at 0x7f51ec438c40>,\n",
              " <keras.layers.pooling.global_average_pooling2d.GlobalAveragePooling2D at 0x7f51ec3a6e50>,\n",
              " <keras.layers.core.dense.Dense at 0x7f51ec3a6eb0>]"
            ]
          },
          "metadata": {},
          "execution_count": 61
        }
      ]
    },
    {
      "cell_type": "code",
      "source": [
        "MEC = mec_of_linear_layer(model.layers[-1])\n",
        "print(f\"Model has {MEC} bits of capacity or {MEC*0.000122}kB or {MEC*(1.192e-7)} mB\")"
      ],
      "metadata": {
        "colab": {
          "base_uri": "https://localhost:8080/"
        },
        "id": "rmKQZQ8gnzN7",
        "outputId": "c9bc0036-d8f9-4d71-811c-9bf0192bbfda"
      },
      "execution_count": null,
      "outputs": [
        {
          "output_type": "stream",
          "name": "stdout",
          "text": [
            "Model has 2049000 bits of capacity or 249.978kB or 0.24424079999999998 mB\n"
          ]
        }
      ]
    },
    {
      "cell_type": "code",
      "source": [
        "# acc from keras website\n",
        "data.append([\"ResNet101V2\", MEC, 77.2])"
      ],
      "metadata": {
        "id": "HY0z9GqIn0-N"
      },
      "execution_count": null,
      "outputs": []
    },
    {
      "cell_type": "markdown",
      "source": [
        "**DenseNet121**"
      ],
      "metadata": {
        "id": "Xvs24LR7oNKV"
      }
    },
    {
      "cell_type": "code",
      "source": [
        "model=DenseNet121()"
      ],
      "metadata": {
        "id": "MDeY61yNoSOE"
      },
      "execution_count": null,
      "outputs": []
    },
    {
      "cell_type": "code",
      "source": [
        "model.layers[-8:]"
      ],
      "metadata": {
        "colab": {
          "base_uri": "https://localhost:8080/"
        },
        "outputId": "214c88f2-4fa1-472d-da7d-b5dc181cd34d",
        "id": "jizs65KhoSOF"
      },
      "execution_count": null,
      "outputs": [
        {
          "output_type": "execute_result",
          "data": {
            "text/plain": [
              "[<keras.layers.normalization.batch_normalization.BatchNormalization at 0x7f51ebf9b9a0>,\n",
              " <keras.layers.core.activation.Activation at 0x7f51ebfeea90>,\n",
              " <keras.layers.convolutional.conv2d.Conv2D at 0x7f51ebfe0910>,\n",
              " <keras.layers.merging.concatenate.Concatenate at 0x7f51ec0425e0>,\n",
              " <keras.layers.normalization.batch_normalization.BatchNormalization at 0x7f51ec130be0>,\n",
              " <keras.layers.core.activation.Activation at 0x7f51ec023880>,\n",
              " <keras.layers.pooling.global_average_pooling2d.GlobalAveragePooling2D at 0x7f51ec02b700>,\n",
              " <keras.layers.core.dense.Dense at 0x7f51ec0e0640>]"
            ]
          },
          "metadata": {},
          "execution_count": 65
        }
      ]
    },
    {
      "cell_type": "code",
      "source": [
        "MEC = mec_of_linear_layer(model.layers[-1])\n",
        "print(f\"Model has {MEC} bits of capacity or {MEC*0.000122}kB or {MEC*(1.192e-7)} mB\")"
      ],
      "metadata": {
        "colab": {
          "base_uri": "https://localhost:8080/"
        },
        "outputId": "c80a74b8-edce-4571-b255-b78df134674e",
        "id": "kOJ7SSrxoSOF"
      },
      "execution_count": null,
      "outputs": [
        {
          "output_type": "stream",
          "name": "stdout",
          "text": [
            "Model has 1025000 bits of capacity or 125.05kB or 0.12218 mB\n"
          ]
        }
      ]
    },
    {
      "cell_type": "code",
      "source": [
        "# acc from keras website\n",
        "data.append([\"DenseNet121\", MEC, 75.0])"
      ],
      "metadata": {
        "id": "eUls7wZLoSOG"
      },
      "execution_count": null,
      "outputs": []
    },
    {
      "cell_type": "code",
      "source": [],
      "metadata": {
        "id": "KtU0VMJLoar1"
      },
      "execution_count": null,
      "outputs": []
    },
    {
      "cell_type": "markdown",
      "source": [
        "**DenseNet169**"
      ],
      "metadata": {
        "id": "ri2WV09OohkC"
      }
    },
    {
      "cell_type": "code",
      "source": [
        "model=DenseNet169()"
      ],
      "metadata": {
        "id": "ZX0qxSnuohkD"
      },
      "execution_count": null,
      "outputs": []
    },
    {
      "cell_type": "code",
      "source": [
        "model.layers[-8:]"
      ],
      "metadata": {
        "colab": {
          "base_uri": "https://localhost:8080/"
        },
        "outputId": "8247fe03-39b0-443e-ae3b-9084d30d65e6",
        "id": "D5H8CbnYohkD"
      },
      "execution_count": null,
      "outputs": [
        {
          "output_type": "execute_result",
          "data": {
            "text/plain": [
              "[<keras.layers.normalization.batch_normalization.BatchNormalization at 0x7f51eba3e910>,\n",
              " <keras.layers.core.activation.Activation at 0x7f51eb988850>,\n",
              " <keras.layers.convolutional.conv2d.Conv2D at 0x7f51eb922fd0>,\n",
              " <keras.layers.merging.concatenate.Concatenate at 0x7f51eb991100>,\n",
              " <keras.layers.normalization.batch_normalization.BatchNormalization at 0x7f51ebdd5ac0>,\n",
              " <keras.layers.core.activation.Activation at 0x7f51eb98ea90>,\n",
              " <keras.layers.pooling.global_average_pooling2d.GlobalAveragePooling2D at 0x7f51eb934c70>,\n",
              " <keras.layers.core.dense.Dense at 0x7f51eb9229a0>]"
            ]
          },
          "metadata": {},
          "execution_count": 69
        }
      ]
    },
    {
      "cell_type": "code",
      "source": [
        "MEC = mec_of_linear_layer(model.layers[-1])\n",
        "print(f\"Model has {MEC} bits of capacity or {MEC*0.000122}kB or {MEC*(1.192e-7)} mB\")"
      ],
      "metadata": {
        "colab": {
          "base_uri": "https://localhost:8080/"
        },
        "outputId": "066148a6-d071-4044-e8de-c84fb884e4d4",
        "id": "NPlSIWm5ohkE"
      },
      "execution_count": null,
      "outputs": [
        {
          "output_type": "stream",
          "name": "stdout",
          "text": [
            "Model has 1665000 bits of capacity or 203.13kB or 0.198468 mB\n"
          ]
        }
      ]
    },
    {
      "cell_type": "code",
      "source": [
        "# acc from keras website\n",
        "data.append([\"DenseNet169\", MEC, 76.2])"
      ],
      "metadata": {
        "id": "uBKYh_uTohkE"
      },
      "execution_count": null,
      "outputs": []
    },
    {
      "cell_type": "markdown",
      "source": [
        "**NASNetMobile**"
      ],
      "metadata": {
        "id": "1ve6o3_QoyXz"
      }
    },
    {
      "cell_type": "code",
      "source": [
        "model=NASNetMobile()"
      ],
      "metadata": {
        "id": "2ywC3wIFoyX0"
      },
      "execution_count": null,
      "outputs": []
    },
    {
      "cell_type": "code",
      "source": [
        "model.layers[-20:]"
      ],
      "metadata": {
        "colab": {
          "base_uri": "https://localhost:8080/"
        },
        "outputId": "c18ce0e1-5772-4c01-b88f-2523985d542a",
        "id": "ycebfVveoyX0"
      },
      "execution_count": null,
      "outputs": [
        {
          "output_type": "execute_result",
          "data": {
            "text/plain": [
              "[<keras.layers.convolutional.separable_conv2d.SeparableConv2D at 0x7f51eb1bd610>,\n",
              " <keras.layers.convolutional.separable_conv2d.SeparableConv2D at 0x7f51eb0b3e80>,\n",
              " <keras.layers.convolutional.separable_conv2d.SeparableConv2D at 0x7f51eb0618e0>,\n",
              " <keras.layers.normalization.batch_normalization.BatchNormalization at 0x7f51eb114400>,\n",
              " <keras.layers.normalization.batch_normalization.BatchNormalization at 0x7f51eb114220>,\n",
              " <keras.layers.normalization.batch_normalization.BatchNormalization at 0x7f51eb1a5f40>,\n",
              " <keras.layers.normalization.batch_normalization.BatchNormalization at 0x7f51eb0b3490>,\n",
              " <keras.layers.pooling.average_pooling2d.AveragePooling2D at 0x7f51eb0c4af0>,\n",
              " <keras.layers.pooling.average_pooling2d.AveragePooling2D at 0x7f51eb0b3fd0>,\n",
              " <keras.layers.pooling.average_pooling2d.AveragePooling2D at 0x7f51eb0bea90>,\n",
              " <keras.layers.normalization.batch_normalization.BatchNormalization at 0x7f51eb061d60>,\n",
              " <keras.layers.merging.add.Add at 0x7f51eb0a6970>,\n",
              " <keras.layers.merging.add.Add at 0x7f51eb13c4c0>,\n",
              " <keras.layers.merging.add.Add at 0x7f51eb147730>,\n",
              " <keras.layers.merging.add.Add at 0x7f51eb15aeb0>,\n",
              " <keras.layers.merging.add.Add at 0x7f51eb0b2640>,\n",
              " <keras.layers.merging.concatenate.Concatenate at 0x7f51eb1472b0>,\n",
              " <keras.layers.core.activation.Activation at 0x7f51eb922790>,\n",
              " <keras.layers.pooling.global_average_pooling2d.GlobalAveragePooling2D at 0x7f51eb0eaca0>,\n",
              " <keras.layers.core.dense.Dense at 0x7f51eb0729a0>]"
            ]
          },
          "metadata": {},
          "execution_count": 73
        }
      ]
    },
    {
      "cell_type": "code",
      "source": [
        "MEC = mec_of_linear_layer(model.layers[-1])\n",
        "print(f\"Model has {MEC} bits of capacity or {MEC*0.000122}kB or {MEC*(1.192e-7)} mB\")"
      ],
      "metadata": {
        "colab": {
          "base_uri": "https://localhost:8080/"
        },
        "outputId": "7516d232-531b-46ea-be53-2832477e66ea",
        "id": "QNIRqnRHoyX0"
      },
      "execution_count": null,
      "outputs": [
        {
          "output_type": "stream",
          "name": "stdout",
          "text": [
            "Model has 1057000 bits of capacity or 128.954kB or 0.1259944 mB\n"
          ]
        }
      ]
    },
    {
      "cell_type": "code",
      "source": [
        "# acc from keras website\n",
        "data.append([\"NASNetMobile\", MEC, 74.4])"
      ],
      "metadata": {
        "id": "cVJczO3AoyX1"
      },
      "execution_count": null,
      "outputs": []
    },
    {
      "cell_type": "code",
      "source": [],
      "metadata": {
        "id": "tTvtxQQ6p7v9"
      },
      "execution_count": null,
      "outputs": []
    },
    {
      "cell_type": "markdown",
      "source": [
        "**NASNetLarge**"
      ],
      "metadata": {
        "id": "WJ6NVQKGp9Dn"
      }
    },
    {
      "cell_type": "code",
      "source": [
        "model=NASNetLarge()"
      ],
      "metadata": {
        "id": "9p1nzZnbp9Dn"
      },
      "execution_count": null,
      "outputs": []
    },
    {
      "cell_type": "code",
      "source": [
        "model.layers[-20:]"
      ],
      "metadata": {
        "colab": {
          "base_uri": "https://localhost:8080/"
        },
        "outputId": "42bfc7e6-3a2f-488d-a732-15e177d49997",
        "id": "24tA0jAup9Do"
      },
      "execution_count": null,
      "outputs": [
        {
          "output_type": "execute_result",
          "data": {
            "text/plain": [
              "[<keras.layers.convolutional.separable_conv2d.SeparableConv2D at 0x7f51ea5ffb20>,\n",
              " <keras.layers.convolutional.separable_conv2d.SeparableConv2D at 0x7f51ea62fb80>,\n",
              " <keras.layers.convolutional.separable_conv2d.SeparableConv2D at 0x7f51ea59aac0>,\n",
              " <keras.layers.normalization.batch_normalization.BatchNormalization at 0x7f51ea61b9a0>,\n",
              " <keras.layers.normalization.batch_normalization.BatchNormalization at 0x7f51ea5e63a0>,\n",
              " <keras.layers.normalization.batch_normalization.BatchNormalization at 0x7f51ea5e61f0>,\n",
              " <keras.layers.normalization.batch_normalization.BatchNormalization at 0x7f51ea5df580>,\n",
              " <keras.layers.pooling.average_pooling2d.AveragePooling2D at 0x7f51ea66a5e0>,\n",
              " <keras.layers.pooling.average_pooling2d.AveragePooling2D at 0x7f51ea6a1520>,\n",
              " <keras.layers.pooling.average_pooling2d.AveragePooling2D at 0x7f51ea912c40>,\n",
              " <keras.layers.normalization.batch_normalization.BatchNormalization at 0x7f51ea62f3d0>,\n",
              " <keras.layers.merging.add.Add at 0x7f51ea61fd60>,\n",
              " <keras.layers.merging.add.Add at 0x7f51ea64fe20>,\n",
              " <keras.layers.merging.add.Add at 0x7f51ea6be910>,\n",
              " <keras.layers.merging.add.Add at 0x7f51ea683df0>,\n",
              " <keras.layers.merging.add.Add at 0x7f51ea614bb0>,\n",
              " <keras.layers.merging.concatenate.Concatenate at 0x7f51ea5f0190>,\n",
              " <keras.layers.core.activation.Activation at 0x7f51eac81070>,\n",
              " <keras.layers.pooling.global_average_pooling2d.GlobalAveragePooling2D at 0x7f51ea698c70>,\n",
              " <keras.layers.core.dense.Dense at 0x7f51ea5abfa0>]"
            ]
          },
          "metadata": {},
          "execution_count": 77
        }
      ]
    },
    {
      "cell_type": "code",
      "source": [
        "MEC = mec_of_linear_layer(model.layers[-1])\n",
        "print(f\"Model has {MEC} bits of capacity or {MEC*0.000122}kB or {MEC*(1.192e-7)} mB\")"
      ],
      "metadata": {
        "colab": {
          "base_uri": "https://localhost:8080/"
        },
        "outputId": "a2659032-c0a1-474b-c78d-629dfb7e022c",
        "id": "19HW6y-Ep9Do"
      },
      "execution_count": null,
      "outputs": [
        {
          "output_type": "stream",
          "name": "stdout",
          "text": [
            "Model has 4033000 bits of capacity or 492.026kB or 0.4807336 mB\n"
          ]
        }
      ]
    },
    {
      "cell_type": "code",
      "source": [
        "# acc from keras website\n",
        "data.append([\"NASNetLarge\", MEC, 82.5])"
      ],
      "metadata": {
        "id": "ZFYFmM8Np9Do"
      },
      "execution_count": null,
      "outputs": []
    },
    {
      "cell_type": "code",
      "source": [],
      "metadata": {
        "id": "_VbisisUqNLO"
      },
      "execution_count": null,
      "outputs": []
    },
    {
      "cell_type": "markdown",
      "source": [
        "**EfficientNetB2**"
      ],
      "metadata": {
        "id": "ay7N6NUiqP_R"
      }
    },
    {
      "cell_type": "code",
      "source": [
        "model=EfficientNetB2()"
      ],
      "metadata": {
        "id": "_kJCC-iXqP_S"
      },
      "execution_count": null,
      "outputs": []
    },
    {
      "cell_type": "code",
      "source": [
        "model.layers[-10:]"
      ],
      "metadata": {
        "colab": {
          "base_uri": "https://localhost:8080/"
        },
        "outputId": "f4e5e2c8-3e5c-4faf-9455-79a488571306",
        "id": "XqGRqwQRqP_S"
      },
      "execution_count": null,
      "outputs": [
        {
          "output_type": "execute_result",
          "data": {
            "text/plain": [
              "[<keras.layers.convolutional.conv2d.Conv2D at 0x7f51ea059220>,\n",
              " <keras.layers.normalization.batch_normalization.BatchNormalization at 0x7f51ea058070>,\n",
              " <keras.layers.regularization.dropout.Dropout at 0x7f51ea06dfa0>,\n",
              " <keras.layers.merging.add.Add at 0x7f51ea0eb250>,\n",
              " <keras.layers.convolutional.conv2d.Conv2D at 0x7f51ea62f580>,\n",
              " <keras.layers.normalization.batch_normalization.BatchNormalization at 0x7f51ea1086d0>,\n",
              " <keras.layers.core.activation.Activation at 0x7f51ea0ebfd0>,\n",
              " <keras.layers.pooling.global_average_pooling2d.GlobalAveragePooling2D at 0x7f51ea0e6ac0>,\n",
              " <keras.layers.regularization.dropout.Dropout at 0x7f51ea0c9f70>,\n",
              " <keras.layers.core.dense.Dense at 0x7f51ea07b310>]"
            ]
          },
          "metadata": {},
          "execution_count": 81
        }
      ]
    },
    {
      "cell_type": "code",
      "source": [
        "MEC = mec_of_linear_layer(model.layers[-1])\n",
        "print(f\"Model has {MEC} bits of capacity or {MEC*0.000122}kB or {MEC*(1.192e-7)} mB\")"
      ],
      "metadata": {
        "colab": {
          "base_uri": "https://localhost:8080/"
        },
        "outputId": "b74d34d9-b9ca-430a-ed42-d949f1707179",
        "id": "mt-elON2qP_T"
      },
      "execution_count": null,
      "outputs": [
        {
          "output_type": "stream",
          "name": "stdout",
          "text": [
            "Model has 1409000 bits of capacity or 171.898kB or 0.16795279999999999 mB\n"
          ]
        }
      ]
    },
    {
      "cell_type": "code",
      "source": [
        "# acc from keras website\n",
        "data.append([\"EfficientNetB2\", MEC, 80.1])"
      ],
      "metadata": {
        "id": "CdldXaSyqP_T"
      },
      "execution_count": null,
      "outputs": []
    },
    {
      "cell_type": "code",
      "source": [
        "from math import prod\n",
        "import numpy as np\n",
        "import plotly.express as px\n",
        "import pandas as pd\n",
        "\n",
        "df=pd.DataFrame(data, columns=[\"name\", \"MEC\", \"acc\"])\n",
        "fig = px.scatter(df, x=\"acc\", y=\"MEC\", color=\"name\")\n",
        "fig.show()"
      ],
      "metadata": {
        "colab": {
          "base_uri": "https://localhost:8080/",
          "height": 542
        },
        "id": "EHFQeL38qeu8",
        "outputId": "4331ccc3-a2a0-4ca1-e9f9-6b68ae910698"
      },
      "execution_count": null,
      "outputs": [
        {
          "output_type": "display_data",
          "data": {
            "text/html": [
              "<html>\n",
              "<head><meta charset=\"utf-8\" /></head>\n",
              "<body>\n",
              "    <div>            <script src=\"https://cdnjs.cloudflare.com/ajax/libs/mathjax/2.7.5/MathJax.js?config=TeX-AMS-MML_SVG\"></script><script type=\"text/javascript\">if (window.MathJax) {MathJax.Hub.Config({SVG: {font: \"STIX-Web\"}});}</script>                <script type=\"text/javascript\">window.PlotlyConfig = {MathJaxConfig: 'local'};</script>\n",
              "        <script src=\"https://cdn.plot.ly/plotly-2.8.3.min.js\"></script>                <div id=\"5318ad01-24c3-41ed-a229-583cf217920b\" class=\"plotly-graph-div\" style=\"height:525px; width:100%;\"></div>            <script type=\"text/javascript\">                                    window.PLOTLYENV=window.PLOTLYENV || {};                                    if (document.getElementById(\"5318ad01-24c3-41ed-a229-583cf217920b\")) {                    Plotly.newPlot(                        \"5318ad01-24c3-41ed-a229-583cf217920b\",                        [{\"hovertemplate\":\"name=ResNet50V2<br>acc=%{x}<br>MEC=%{y}<extra></extra>\",\"legendgroup\":\"ResNet50V2\",\"marker\":{\"color\":\"#636efa\",\"symbol\":\"circle\"},\"mode\":\"markers\",\"name\":\"ResNet50V2\",\"orientation\":\"v\",\"showlegend\":true,\"x\":[76.0],\"xaxis\":\"x\",\"y\":[2049000],\"yaxis\":\"y\",\"type\":\"scatter\"},{\"hovertemplate\":\"name=ResNet101V2<br>acc=%{x}<br>MEC=%{y}<extra></extra>\",\"legendgroup\":\"ResNet101V2\",\"marker\":{\"color\":\"#EF553B\",\"symbol\":\"circle\"},\"mode\":\"markers\",\"name\":\"ResNet101V2\",\"orientation\":\"v\",\"showlegend\":true,\"x\":[77.2],\"xaxis\":\"x\",\"y\":[2049000],\"yaxis\":\"y\",\"type\":\"scatter\"},{\"hovertemplate\":\"name=DenseNet121<br>acc=%{x}<br>MEC=%{y}<extra></extra>\",\"legendgroup\":\"DenseNet121\",\"marker\":{\"color\":\"#00cc96\",\"symbol\":\"circle\"},\"mode\":\"markers\",\"name\":\"DenseNet121\",\"orientation\":\"v\",\"showlegend\":true,\"x\":[75.0],\"xaxis\":\"x\",\"y\":[1025000],\"yaxis\":\"y\",\"type\":\"scatter\"},{\"hovertemplate\":\"name=DenseNet169<br>acc=%{x}<br>MEC=%{y}<extra></extra>\",\"legendgroup\":\"DenseNet169\",\"marker\":{\"color\":\"#ab63fa\",\"symbol\":\"circle\"},\"mode\":\"markers\",\"name\":\"DenseNet169\",\"orientation\":\"v\",\"showlegend\":true,\"x\":[76.2],\"xaxis\":\"x\",\"y\":[1665000],\"yaxis\":\"y\",\"type\":\"scatter\"},{\"hovertemplate\":\"name=NASNetMobile<br>acc=%{x}<br>MEC=%{y}<extra></extra>\",\"legendgroup\":\"NASNetMobile\",\"marker\":{\"color\":\"#FFA15A\",\"symbol\":\"circle\"},\"mode\":\"markers\",\"name\":\"NASNetMobile\",\"orientation\":\"v\",\"showlegend\":true,\"x\":[74.4],\"xaxis\":\"x\",\"y\":[1057000],\"yaxis\":\"y\",\"type\":\"scatter\"},{\"hovertemplate\":\"name=NASNetLarge<br>acc=%{x}<br>MEC=%{y}<extra></extra>\",\"legendgroup\":\"NASNetLarge\",\"marker\":{\"color\":\"#19d3f3\",\"symbol\":\"circle\"},\"mode\":\"markers\",\"name\":\"NASNetLarge\",\"orientation\":\"v\",\"showlegend\":true,\"x\":[82.5],\"xaxis\":\"x\",\"y\":[4033000],\"yaxis\":\"y\",\"type\":\"scatter\"},{\"hovertemplate\":\"name=EfficientNetB2<br>acc=%{x}<br>MEC=%{y}<extra></extra>\",\"legendgroup\":\"EfficientNetB2\",\"marker\":{\"color\":\"#FF6692\",\"symbol\":\"circle\"},\"mode\":\"markers\",\"name\":\"EfficientNetB2\",\"orientation\":\"v\",\"showlegend\":true,\"x\":[80.1],\"xaxis\":\"x\",\"y\":[1409000],\"yaxis\":\"y\",\"type\":\"scatter\"}],                        {\"template\":{\"data\":{\"bar\":[{\"error_x\":{\"color\":\"#2a3f5f\"},\"error_y\":{\"color\":\"#2a3f5f\"},\"marker\":{\"line\":{\"color\":\"#E5ECF6\",\"width\":0.5},\"pattern\":{\"fillmode\":\"overlay\",\"size\":10,\"solidity\":0.2}},\"type\":\"bar\"}],\"barpolar\":[{\"marker\":{\"line\":{\"color\":\"#E5ECF6\",\"width\":0.5},\"pattern\":{\"fillmode\":\"overlay\",\"size\":10,\"solidity\":0.2}},\"type\":\"barpolar\"}],\"carpet\":[{\"aaxis\":{\"endlinecolor\":\"#2a3f5f\",\"gridcolor\":\"white\",\"linecolor\":\"white\",\"minorgridcolor\":\"white\",\"startlinecolor\":\"#2a3f5f\"},\"baxis\":{\"endlinecolor\":\"#2a3f5f\",\"gridcolor\":\"white\",\"linecolor\":\"white\",\"minorgridcolor\":\"white\",\"startlinecolor\":\"#2a3f5f\"},\"type\":\"carpet\"}],\"choropleth\":[{\"colorbar\":{\"outlinewidth\":0,\"ticks\":\"\"},\"type\":\"choropleth\"}],\"contour\":[{\"colorbar\":{\"outlinewidth\":0,\"ticks\":\"\"},\"colorscale\":[[0.0,\"#0d0887\"],[0.1111111111111111,\"#46039f\"],[0.2222222222222222,\"#7201a8\"],[0.3333333333333333,\"#9c179e\"],[0.4444444444444444,\"#bd3786\"],[0.5555555555555556,\"#d8576b\"],[0.6666666666666666,\"#ed7953\"],[0.7777777777777778,\"#fb9f3a\"],[0.8888888888888888,\"#fdca26\"],[1.0,\"#f0f921\"]],\"type\":\"contour\"}],\"contourcarpet\":[{\"colorbar\":{\"outlinewidth\":0,\"ticks\":\"\"},\"type\":\"contourcarpet\"}],\"heatmap\":[{\"colorbar\":{\"outlinewidth\":0,\"ticks\":\"\"},\"colorscale\":[[0.0,\"#0d0887\"],[0.1111111111111111,\"#46039f\"],[0.2222222222222222,\"#7201a8\"],[0.3333333333333333,\"#9c179e\"],[0.4444444444444444,\"#bd3786\"],[0.5555555555555556,\"#d8576b\"],[0.6666666666666666,\"#ed7953\"],[0.7777777777777778,\"#fb9f3a\"],[0.8888888888888888,\"#fdca26\"],[1.0,\"#f0f921\"]],\"type\":\"heatmap\"}],\"heatmapgl\":[{\"colorbar\":{\"outlinewidth\":0,\"ticks\":\"\"},\"colorscale\":[[0.0,\"#0d0887\"],[0.1111111111111111,\"#46039f\"],[0.2222222222222222,\"#7201a8\"],[0.3333333333333333,\"#9c179e\"],[0.4444444444444444,\"#bd3786\"],[0.5555555555555556,\"#d8576b\"],[0.6666666666666666,\"#ed7953\"],[0.7777777777777778,\"#fb9f3a\"],[0.8888888888888888,\"#fdca26\"],[1.0,\"#f0f921\"]],\"type\":\"heatmapgl\"}],\"histogram\":[{\"marker\":{\"pattern\":{\"fillmode\":\"overlay\",\"size\":10,\"solidity\":0.2}},\"type\":\"histogram\"}],\"histogram2d\":[{\"colorbar\":{\"outlinewidth\":0,\"ticks\":\"\"},\"colorscale\":[[0.0,\"#0d0887\"],[0.1111111111111111,\"#46039f\"],[0.2222222222222222,\"#7201a8\"],[0.3333333333333333,\"#9c179e\"],[0.4444444444444444,\"#bd3786\"],[0.5555555555555556,\"#d8576b\"],[0.6666666666666666,\"#ed7953\"],[0.7777777777777778,\"#fb9f3a\"],[0.8888888888888888,\"#fdca26\"],[1.0,\"#f0f921\"]],\"type\":\"histogram2d\"}],\"histogram2dcontour\":[{\"colorbar\":{\"outlinewidth\":0,\"ticks\":\"\"},\"colorscale\":[[0.0,\"#0d0887\"],[0.1111111111111111,\"#46039f\"],[0.2222222222222222,\"#7201a8\"],[0.3333333333333333,\"#9c179e\"],[0.4444444444444444,\"#bd3786\"],[0.5555555555555556,\"#d8576b\"],[0.6666666666666666,\"#ed7953\"],[0.7777777777777778,\"#fb9f3a\"],[0.8888888888888888,\"#fdca26\"],[1.0,\"#f0f921\"]],\"type\":\"histogram2dcontour\"}],\"mesh3d\":[{\"colorbar\":{\"outlinewidth\":0,\"ticks\":\"\"},\"type\":\"mesh3d\"}],\"parcoords\":[{\"line\":{\"colorbar\":{\"outlinewidth\":0,\"ticks\":\"\"}},\"type\":\"parcoords\"}],\"pie\":[{\"automargin\":true,\"type\":\"pie\"}],\"scatter\":[{\"marker\":{\"colorbar\":{\"outlinewidth\":0,\"ticks\":\"\"}},\"type\":\"scatter\"}],\"scatter3d\":[{\"line\":{\"colorbar\":{\"outlinewidth\":0,\"ticks\":\"\"}},\"marker\":{\"colorbar\":{\"outlinewidth\":0,\"ticks\":\"\"}},\"type\":\"scatter3d\"}],\"scattercarpet\":[{\"marker\":{\"colorbar\":{\"outlinewidth\":0,\"ticks\":\"\"}},\"type\":\"scattercarpet\"}],\"scattergeo\":[{\"marker\":{\"colorbar\":{\"outlinewidth\":0,\"ticks\":\"\"}},\"type\":\"scattergeo\"}],\"scattergl\":[{\"marker\":{\"colorbar\":{\"outlinewidth\":0,\"ticks\":\"\"}},\"type\":\"scattergl\"}],\"scattermapbox\":[{\"marker\":{\"colorbar\":{\"outlinewidth\":0,\"ticks\":\"\"}},\"type\":\"scattermapbox\"}],\"scatterpolar\":[{\"marker\":{\"colorbar\":{\"outlinewidth\":0,\"ticks\":\"\"}},\"type\":\"scatterpolar\"}],\"scatterpolargl\":[{\"marker\":{\"colorbar\":{\"outlinewidth\":0,\"ticks\":\"\"}},\"type\":\"scatterpolargl\"}],\"scatterternary\":[{\"marker\":{\"colorbar\":{\"outlinewidth\":0,\"ticks\":\"\"}},\"type\":\"scatterternary\"}],\"surface\":[{\"colorbar\":{\"outlinewidth\":0,\"ticks\":\"\"},\"colorscale\":[[0.0,\"#0d0887\"],[0.1111111111111111,\"#46039f\"],[0.2222222222222222,\"#7201a8\"],[0.3333333333333333,\"#9c179e\"],[0.4444444444444444,\"#bd3786\"],[0.5555555555555556,\"#d8576b\"],[0.6666666666666666,\"#ed7953\"],[0.7777777777777778,\"#fb9f3a\"],[0.8888888888888888,\"#fdca26\"],[1.0,\"#f0f921\"]],\"type\":\"surface\"}],\"table\":[{\"cells\":{\"fill\":{\"color\":\"#EBF0F8\"},\"line\":{\"color\":\"white\"}},\"header\":{\"fill\":{\"color\":\"#C8D4E3\"},\"line\":{\"color\":\"white\"}},\"type\":\"table\"}]},\"layout\":{\"annotationdefaults\":{\"arrowcolor\":\"#2a3f5f\",\"arrowhead\":0,\"arrowwidth\":1},\"autotypenumbers\":\"strict\",\"coloraxis\":{\"colorbar\":{\"outlinewidth\":0,\"ticks\":\"\"}},\"colorscale\":{\"diverging\":[[0,\"#8e0152\"],[0.1,\"#c51b7d\"],[0.2,\"#de77ae\"],[0.3,\"#f1b6da\"],[0.4,\"#fde0ef\"],[0.5,\"#f7f7f7\"],[0.6,\"#e6f5d0\"],[0.7,\"#b8e186\"],[0.8,\"#7fbc41\"],[0.9,\"#4d9221\"],[1,\"#276419\"]],\"sequential\":[[0.0,\"#0d0887\"],[0.1111111111111111,\"#46039f\"],[0.2222222222222222,\"#7201a8\"],[0.3333333333333333,\"#9c179e\"],[0.4444444444444444,\"#bd3786\"],[0.5555555555555556,\"#d8576b\"],[0.6666666666666666,\"#ed7953\"],[0.7777777777777778,\"#fb9f3a\"],[0.8888888888888888,\"#fdca26\"],[1.0,\"#f0f921\"]],\"sequentialminus\":[[0.0,\"#0d0887\"],[0.1111111111111111,\"#46039f\"],[0.2222222222222222,\"#7201a8\"],[0.3333333333333333,\"#9c179e\"],[0.4444444444444444,\"#bd3786\"],[0.5555555555555556,\"#d8576b\"],[0.6666666666666666,\"#ed7953\"],[0.7777777777777778,\"#fb9f3a\"],[0.8888888888888888,\"#fdca26\"],[1.0,\"#f0f921\"]]},\"colorway\":[\"#636efa\",\"#EF553B\",\"#00cc96\",\"#ab63fa\",\"#FFA15A\",\"#19d3f3\",\"#FF6692\",\"#B6E880\",\"#FF97FF\",\"#FECB52\"],\"font\":{\"color\":\"#2a3f5f\"},\"geo\":{\"bgcolor\":\"white\",\"lakecolor\":\"white\",\"landcolor\":\"#E5ECF6\",\"showlakes\":true,\"showland\":true,\"subunitcolor\":\"white\"},\"hoverlabel\":{\"align\":\"left\"},\"hovermode\":\"closest\",\"mapbox\":{\"style\":\"light\"},\"paper_bgcolor\":\"white\",\"plot_bgcolor\":\"#E5ECF6\",\"polar\":{\"angularaxis\":{\"gridcolor\":\"white\",\"linecolor\":\"white\",\"ticks\":\"\"},\"bgcolor\":\"#E5ECF6\",\"radialaxis\":{\"gridcolor\":\"white\",\"linecolor\":\"white\",\"ticks\":\"\"}},\"scene\":{\"xaxis\":{\"backgroundcolor\":\"#E5ECF6\",\"gridcolor\":\"white\",\"gridwidth\":2,\"linecolor\":\"white\",\"showbackground\":true,\"ticks\":\"\",\"zerolinecolor\":\"white\"},\"yaxis\":{\"backgroundcolor\":\"#E5ECF6\",\"gridcolor\":\"white\",\"gridwidth\":2,\"linecolor\":\"white\",\"showbackground\":true,\"ticks\":\"\",\"zerolinecolor\":\"white\"},\"zaxis\":{\"backgroundcolor\":\"#E5ECF6\",\"gridcolor\":\"white\",\"gridwidth\":2,\"linecolor\":\"white\",\"showbackground\":true,\"ticks\":\"\",\"zerolinecolor\":\"white\"}},\"shapedefaults\":{\"line\":{\"color\":\"#2a3f5f\"}},\"ternary\":{\"aaxis\":{\"gridcolor\":\"white\",\"linecolor\":\"white\",\"ticks\":\"\"},\"baxis\":{\"gridcolor\":\"white\",\"linecolor\":\"white\",\"ticks\":\"\"},\"bgcolor\":\"#E5ECF6\",\"caxis\":{\"gridcolor\":\"white\",\"linecolor\":\"white\",\"ticks\":\"\"}},\"title\":{\"x\":0.05},\"xaxis\":{\"automargin\":true,\"gridcolor\":\"white\",\"linecolor\":\"white\",\"ticks\":\"\",\"title\":{\"standoff\":15},\"zerolinecolor\":\"white\",\"zerolinewidth\":2},\"yaxis\":{\"automargin\":true,\"gridcolor\":\"white\",\"linecolor\":\"white\",\"ticks\":\"\",\"title\":{\"standoff\":15},\"zerolinecolor\":\"white\",\"zerolinewidth\":2}}},\"xaxis\":{\"anchor\":\"y\",\"domain\":[0.0,1.0],\"title\":{\"text\":\"acc\"}},\"yaxis\":{\"anchor\":\"x\",\"domain\":[0.0,1.0],\"title\":{\"text\":\"MEC\"}},\"legend\":{\"title\":{\"text\":\"name\"},\"tracegroupgap\":0},\"margin\":{\"t\":60}},                        {\"responsive\": true}                    ).then(function(){\n",
              "                            \n",
              "var gd = document.getElementById('5318ad01-24c3-41ed-a229-583cf217920b');\n",
              "var x = new MutationObserver(function (mutations, observer) {{\n",
              "        var display = window.getComputedStyle(gd).display;\n",
              "        if (!display || display === 'none') {{\n",
              "            console.log([gd, 'removed!']);\n",
              "            Plotly.purge(gd);\n",
              "            observer.disconnect();\n",
              "        }}\n",
              "}});\n",
              "\n",
              "// Listen for the removal of the full notebook cells\n",
              "var notebookContainer = gd.closest('#notebook-container');\n",
              "if (notebookContainer) {{\n",
              "    x.observe(notebookContainer, {childList: true});\n",
              "}}\n",
              "\n",
              "// Listen for the clearing of the current output cell\n",
              "var outputEl = gd.closest('.output');\n",
              "if (outputEl) {{\n",
              "    x.observe(outputEl, {childList: true});\n",
              "}}\n",
              "\n",
              "                        })                };                            </script>        </div>\n",
              "</body>\n",
              "</html>"
            ]
          },
          "metadata": {}
        }
      ]
    },
    {
      "cell_type": "markdown",
      "source": [
        "# How many params in model with without dense layer and MEC of model\n",
        "Report visualization\n"
      ],
      "metadata": {
        "id": "EFrbI-x-ghfG"
      }
    },
    {
      "cell_type": "code",
      "source": [
        "from tensorflow.keras.applications import ResNet50V2, ResNet101V2, DenseNet121, DenseNet169, NASNetMobile, EfficientNetB2, NASNetLarge, MobileNetV2"
      ],
      "metadata": {
        "id": "gNILUXt-rPzO"
      },
      "execution_count": null,
      "outputs": []
    },
    {
      "cell_type": "code",
      "source": [
        "data=[]\n",
        "models=[ResNet50V2, ResNet101V2, DenseNet121, DenseNet169, NASNetMobile, EfficientNetB2, NASNetLarge, MobileNetV2]"
      ],
      "metadata": {
        "id": "OfABC1Qd-hVz"
      },
      "execution_count": null,
      "outputs": []
    },
    {
      "cell_type": "code",
      "source": [
        "data=[]\n",
        "for model in models:\n",
        "  # Example\n",
        "  temp_data={\"name\":\"name\", \n",
        "             \"mec\":0, \n",
        "             \"compression\":100, \n",
        "             \"w/ classification_param_count\":2,\n",
        "             \"w/o classification_param_count\":2, \n",
        "             \"compression_output_shape\":2,\n",
        "             \"compression_input_shape\":2,\n",
        "             \"compression\":1}\n",
        "\n",
        "  model_instanec = model(include_top=False)\n",
        "  temp_data[\"name\"] = model_instanec.name\n",
        "  temp_data[\"w/o classification_param_count\"]=model_instanec.count_params()\n",
        "  model_instanec = model(include_top=True)\n",
        "  temp_data[\"w/ classification_param_count\"]=model_instanec.count_params()\n",
        "  MEC = mec_of_linear_layer(model_instanec.layers[-1])\n",
        "  temp_data[\"mec\"]=MEC\n",
        "  input_shape=prod(model_instanec.layers[0].input_shape[0][1:])\n",
        "  output_shape=prod(model_instanec.layers[-1].input_shape[1:])\n",
        "  temp_data['compression_output_shape']=output_shape\n",
        "  temp_data['compression_input_shape']=input_shape\n",
        "  temp_data['compression']=input_shape/output_shape\n",
        "  data.append(temp_data.copy())\n"
      ],
      "metadata": {
        "colab": {
          "base_uri": "https://localhost:8080/"
        },
        "id": "NHY9zrPXgs15",
        "outputId": "832f5e8a-9e9b-4f66-861a-8b374e8e8969"
      },
      "execution_count": null,
      "outputs": [
        {
          "output_type": "stream",
          "name": "stderr",
          "text": [
            "WARNING:tensorflow:`input_shape` is undefined or non-square, or `rows` is not in [96, 128, 160, 192, 224]. Weights for input shape (224, 224) will be loaded as the default.\n"
          ]
        }
      ]
    },
    {
      "cell_type": "code",
      "source": [
        "from math import prod\n",
        "import numpy as np\n",
        "import pandas as pd\n",
        "\n",
        "df=pd.DataFrame(data)\n",
        "df"
      ],
      "metadata": {
        "id": "F1eBhLy2hKnE",
        "colab": {
          "base_uri": "https://localhost:8080/",
          "height": 382
        },
        "outputId": "ef13760b-3c8e-4c38-818f-a1dd9f3c997d"
      },
      "execution_count": null,
      "outputs": [
        {
          "output_type": "execute_result",
          "data": {
            "text/plain": [
              "                   name      mec  compression  w/ classification_param_count  \\\n",
              "0            resnet50v2  2049000    73.500000                       25613800   \n",
              "1           resnet101v2  2049000    73.500000                       44675560   \n",
              "2           densenet121  1025000   147.000000                        8062504   \n",
              "3           densenet169  1665000    90.461538                       14307880   \n",
              "4                NASNet  1057000   142.545455                        5326716   \n",
              "5        efficientnetb2  1409000   144.034091                        9177569   \n",
              "6                NASNet  4033000    81.518601                       88949818   \n",
              "7  mobilenetv2_1.00_224  1281000   117.600000                        3538984   \n",
              "\n",
              "   w/o classification_param_count  compression_output_shape  \\\n",
              "0                        23564800                      2048   \n",
              "1                        42626560                      2048   \n",
              "2                         7037504                      1024   \n",
              "3                        12642880                      1664   \n",
              "4                         4269716                      1056   \n",
              "5                         7768569                      1408   \n",
              "6                        84916818                      4032   \n",
              "7                         2257984                      1280   \n",
              "\n",
              "   compression_input_shape  \n",
              "0                   150528  \n",
              "1                   150528  \n",
              "2                   150528  \n",
              "3                   150528  \n",
              "4                   150528  \n",
              "5                   202800  \n",
              "6                   328683  \n",
              "7                   150528  "
            ],
            "text/html": [
              "\n",
              "  <div id=\"df-f3718635-faaf-4bff-aad2-f32567f1b38f\">\n",
              "    <div class=\"colab-df-container\">\n",
              "      <div>\n",
              "<style scoped>\n",
              "    .dataframe tbody tr th:only-of-type {\n",
              "        vertical-align: middle;\n",
              "    }\n",
              "\n",
              "    .dataframe tbody tr th {\n",
              "        vertical-align: top;\n",
              "    }\n",
              "\n",
              "    .dataframe thead th {\n",
              "        text-align: right;\n",
              "    }\n",
              "</style>\n",
              "<table border=\"1\" class=\"dataframe\">\n",
              "  <thead>\n",
              "    <tr style=\"text-align: right;\">\n",
              "      <th></th>\n",
              "      <th>name</th>\n",
              "      <th>mec</th>\n",
              "      <th>compression</th>\n",
              "      <th>w/ classification_param_count</th>\n",
              "      <th>w/o classification_param_count</th>\n",
              "      <th>compression_output_shape</th>\n",
              "      <th>compression_input_shape</th>\n",
              "    </tr>\n",
              "  </thead>\n",
              "  <tbody>\n",
              "    <tr>\n",
              "      <th>0</th>\n",
              "      <td>resnet50v2</td>\n",
              "      <td>2049000</td>\n",
              "      <td>73.500000</td>\n",
              "      <td>25613800</td>\n",
              "      <td>23564800</td>\n",
              "      <td>2048</td>\n",
              "      <td>150528</td>\n",
              "    </tr>\n",
              "    <tr>\n",
              "      <th>1</th>\n",
              "      <td>resnet101v2</td>\n",
              "      <td>2049000</td>\n",
              "      <td>73.500000</td>\n",
              "      <td>44675560</td>\n",
              "      <td>42626560</td>\n",
              "      <td>2048</td>\n",
              "      <td>150528</td>\n",
              "    </tr>\n",
              "    <tr>\n",
              "      <th>2</th>\n",
              "      <td>densenet121</td>\n",
              "      <td>1025000</td>\n",
              "      <td>147.000000</td>\n",
              "      <td>8062504</td>\n",
              "      <td>7037504</td>\n",
              "      <td>1024</td>\n",
              "      <td>150528</td>\n",
              "    </tr>\n",
              "    <tr>\n",
              "      <th>3</th>\n",
              "      <td>densenet169</td>\n",
              "      <td>1665000</td>\n",
              "      <td>90.461538</td>\n",
              "      <td>14307880</td>\n",
              "      <td>12642880</td>\n",
              "      <td>1664</td>\n",
              "      <td>150528</td>\n",
              "    </tr>\n",
              "    <tr>\n",
              "      <th>4</th>\n",
              "      <td>NASNet</td>\n",
              "      <td>1057000</td>\n",
              "      <td>142.545455</td>\n",
              "      <td>5326716</td>\n",
              "      <td>4269716</td>\n",
              "      <td>1056</td>\n",
              "      <td>150528</td>\n",
              "    </tr>\n",
              "    <tr>\n",
              "      <th>5</th>\n",
              "      <td>efficientnetb2</td>\n",
              "      <td>1409000</td>\n",
              "      <td>144.034091</td>\n",
              "      <td>9177569</td>\n",
              "      <td>7768569</td>\n",
              "      <td>1408</td>\n",
              "      <td>202800</td>\n",
              "    </tr>\n",
              "    <tr>\n",
              "      <th>6</th>\n",
              "      <td>NASNet</td>\n",
              "      <td>4033000</td>\n",
              "      <td>81.518601</td>\n",
              "      <td>88949818</td>\n",
              "      <td>84916818</td>\n",
              "      <td>4032</td>\n",
              "      <td>328683</td>\n",
              "    </tr>\n",
              "    <tr>\n",
              "      <th>7</th>\n",
              "      <td>mobilenetv2_1.00_224</td>\n",
              "      <td>1281000</td>\n",
              "      <td>117.600000</td>\n",
              "      <td>3538984</td>\n",
              "      <td>2257984</td>\n",
              "      <td>1280</td>\n",
              "      <td>150528</td>\n",
              "    </tr>\n",
              "  </tbody>\n",
              "</table>\n",
              "</div>\n",
              "      <button class=\"colab-df-convert\" onclick=\"convertToInteractive('df-f3718635-faaf-4bff-aad2-f32567f1b38f')\"\n",
              "              title=\"Convert this dataframe to an interactive table.\"\n",
              "              style=\"display:none;\">\n",
              "        \n",
              "  <svg xmlns=\"http://www.w3.org/2000/svg\" height=\"24px\"viewBox=\"0 0 24 24\"\n",
              "       width=\"24px\">\n",
              "    <path d=\"M0 0h24v24H0V0z\" fill=\"none\"/>\n",
              "    <path d=\"M18.56 5.44l.94 2.06.94-2.06 2.06-.94-2.06-.94-.94-2.06-.94 2.06-2.06.94zm-11 1L8.5 8.5l.94-2.06 2.06-.94-2.06-.94L8.5 2.5l-.94 2.06-2.06.94zm10 10l.94 2.06.94-2.06 2.06-.94-2.06-.94-.94-2.06-.94 2.06-2.06.94z\"/><path d=\"M17.41 7.96l-1.37-1.37c-.4-.4-.92-.59-1.43-.59-.52 0-1.04.2-1.43.59L10.3 9.45l-7.72 7.72c-.78.78-.78 2.05 0 2.83L4 21.41c.39.39.9.59 1.41.59.51 0 1.02-.2 1.41-.59l7.78-7.78 2.81-2.81c.8-.78.8-2.07 0-2.86zM5.41 20L4 18.59l7.72-7.72 1.47 1.35L5.41 20z\"/>\n",
              "  </svg>\n",
              "      </button>\n",
              "      \n",
              "  <style>\n",
              "    .colab-df-container {\n",
              "      display:flex;\n",
              "      flex-wrap:wrap;\n",
              "      gap: 12px;\n",
              "    }\n",
              "\n",
              "    .colab-df-convert {\n",
              "      background-color: #E8F0FE;\n",
              "      border: none;\n",
              "      border-radius: 50%;\n",
              "      cursor: pointer;\n",
              "      display: none;\n",
              "      fill: #1967D2;\n",
              "      height: 32px;\n",
              "      padding: 0 0 0 0;\n",
              "      width: 32px;\n",
              "    }\n",
              "\n",
              "    .colab-df-convert:hover {\n",
              "      background-color: #E2EBFA;\n",
              "      box-shadow: 0px 1px 2px rgba(60, 64, 67, 0.3), 0px 1px 3px 1px rgba(60, 64, 67, 0.15);\n",
              "      fill: #174EA6;\n",
              "    }\n",
              "\n",
              "    [theme=dark] .colab-df-convert {\n",
              "      background-color: #3B4455;\n",
              "      fill: #D2E3FC;\n",
              "    }\n",
              "\n",
              "    [theme=dark] .colab-df-convert:hover {\n",
              "      background-color: #434B5C;\n",
              "      box-shadow: 0px 1px 3px 1px rgba(0, 0, 0, 0.15);\n",
              "      filter: drop-shadow(0px 1px 2px rgba(0, 0, 0, 0.3));\n",
              "      fill: #FFFFFF;\n",
              "    }\n",
              "  </style>\n",
              "\n",
              "      <script>\n",
              "        const buttonEl =\n",
              "          document.querySelector('#df-f3718635-faaf-4bff-aad2-f32567f1b38f button.colab-df-convert');\n",
              "        buttonEl.style.display =\n",
              "          google.colab.kernel.accessAllowed ? 'block' : 'none';\n",
              "\n",
              "        async function convertToInteractive(key) {\n",
              "          const element = document.querySelector('#df-f3718635-faaf-4bff-aad2-f32567f1b38f');\n",
              "          const dataTable =\n",
              "            await google.colab.kernel.invokeFunction('convertToInteractive',\n",
              "                                                     [key], {});\n",
              "          if (!dataTable) return;\n",
              "\n",
              "          const docLinkHtml = 'Like what you see? Visit the ' +\n",
              "            '<a target=\"_blank\" href=https://colab.research.google.com/notebooks/data_table.ipynb>data table notebook</a>'\n",
              "            + ' to learn more about interactive tables.';\n",
              "          element.innerHTML = '';\n",
              "          dataTable['output_type'] = 'display_data';\n",
              "          await google.colab.output.renderOutput(dataTable, element);\n",
              "          const docLink = document.createElement('div');\n",
              "          docLink.innerHTML = docLinkHtml;\n",
              "          element.appendChild(docLink);\n",
              "        }\n",
              "      </script>\n",
              "    </div>\n",
              "  </div>\n",
              "  "
            ]
          },
          "metadata": {},
          "execution_count": 103
        }
      ]
    }
  ],
  "metadata": {
    "colab": {
      "provenance": []
    },
    "kernelspec": {
      "display_name": "Python 3",
      "name": "python3"
    },
    "language_info": {
      "name": "python"
    }
  },
  "nbformat": 4,
  "nbformat_minor": 0
}