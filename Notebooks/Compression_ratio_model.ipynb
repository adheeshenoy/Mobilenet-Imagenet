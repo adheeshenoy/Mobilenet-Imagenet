{
  "nbformat": 4,
  "nbformat_minor": 0,
  "metadata": {
    "colab": {
      "provenance": []
    },
    "kernelspec": {
      "name": "python3",
      "display_name": "Python 3"
    },
    "language_info": {
      "name": "python"
    }
  },
  "cells": [
    {
      "cell_type": "markdown",
      "source": [
        "# Compression ratio of CNN\n",
        "This notebook is used for calculating the compression ratio of the models"
      ],
      "metadata": {
        "id": "Gmc50UOJmmzZ"
      }
    },
    {
      "cell_type": "code",
      "execution_count": 1,
      "metadata": {
        "id": "m0JRB-qVc3uq"
      },
      "outputs": [],
      "source": [
        "import tensorflow as tf\n",
        "import tensorflow.keras as keras"
      ]
    },
    {
      "cell_type": "code",
      "source": [
        "model = tf.keras.applications.MobileNetV2(\n",
        ")"
      ],
      "metadata": {
        "id": "uU7xY9oIc43S",
        "colab": {
          "base_uri": "https://localhost:8080/"
        },
        "outputId": "5cdd9235-4fc0-40c7-b960-494fc8af363f"
      },
      "execution_count": 2,
      "outputs": [
        {
          "output_type": "stream",
          "name": "stdout",
          "text": [
            "Downloading data from https://storage.googleapis.com/tensorflow/keras-applications/mobilenet_v2/mobilenet_v2_weights_tf_dim_ordering_tf_kernels_1.0_224.h5\n",
            "14536120/14536120 [==============================] - 0s 0us/step\n"
          ]
        }
      ]
    },
    {
      "cell_type": "markdown",
      "source": [
        "Taking a look at the different types of layers"
      ],
      "metadata": {
        "id": "8zQyFpH-xmHw"
      }
    },
    {
      "cell_type": "code",
      "source": [
        "for layer in model.layers:\n",
        "  print(f\"Name {layer.name} \\n Type of layer\", layer)\n",
        "  print(f\"\\ninp:{layer.input_shape}, out:{layer.output_shape}\\n\\n\")"
      ],
      "metadata": {
        "colab": {
          "base_uri": "https://localhost:8080/",
          "height": 35
        },
        "id": "0gZq1ziqPPTR",
        "outputId": "718cce3f-29f7-410a-918e-8c5384fc27ad"
      },
      "execution_count": 20,
      "outputs": [
        {
          "output_type": "execute_result",
          "data": {
            "text/plain": [
              "'BatchNormalization'"
            ],
            "application/vnd.google.colaboratory.intrinsic+json": {
              "type": "string"
            }
          },
          "metadata": {},
          "execution_count": 20
        }
      ]
    },
    {
      "cell_type": "markdown",
      "source": [
        "This looks somewhat as expected"
      ],
      "metadata": {
        "id": "9t0pV7zQRAgE"
      }
    },
    {
      "cell_type": "code",
      "source": [
        "from math import prod\n",
        "import numpy as np\n",
        "import plotly.express as px\n",
        "import pandas as pd\n",
        "\n",
        "data=[]\n",
        "for idx, l in enumerate(model.layers[1:-1]):\n",
        "  data.append((prod(l.output_shape[1:]),type(l).__name__, l.name, idx))\n",
        "  data.append((prod(l.output_shape[1:]),\"all\", l.name, idx))\n",
        "\n",
        "df=pd.DataFrame(data, columns=[\"features\",\"layer type\", \"layer name\", \"idx\"])\n",
        "np.unique([prod(x.output_shape[1:]) for x in model.layers[1:-1]])\n",
        "fig = px.line(df, x=\"idx\", y=\"features\", color=\"layer type\", custom_data=['layer name'])\n",
        "fig.update_traces(hovertemplate = \"Features:%{y} <br>Name of layer: %{customdata} </br>\")\n",
        "fig.show()\n"
      ],
      "metadata": {
        "colab": {
          "base_uri": "https://localhost:8080/",
          "height": 542
        },
        "id": "bBpLf7VS5IRU",
        "outputId": "ee35dbb8-890e-4673-a442-ef5955a02b7c"
      },
      "execution_count": 44,
      "outputs": [
        {
          "output_type": "display_data",
          "data": {
            "text/html": [
              "<html>\n",
              "<head><meta charset=\"utf-8\" /></head>\n",
              "<body>\n",
              "    <div>            <script src=\"https://cdnjs.cloudflare.com/ajax/libs/mathjax/2.7.5/MathJax.js?config=TeX-AMS-MML_SVG\"></script><script type=\"text/javascript\">if (window.MathJax) {MathJax.Hub.Config({SVG: {font: \"STIX-Web\"}});}</script>                <script type=\"text/javascript\">window.PlotlyConfig = {MathJaxConfig: 'local'};</script>\n",
              "        <script src=\"https://cdn.plot.ly/plotly-2.8.3.min.js\"></script>                <div id=\"c7397bb9-72df-449b-8c6a-a2f3210c68cb\" class=\"plotly-graph-div\" style=\"height:525px; width:100%;\"></div>            <script type=\"text/javascript\">                                    window.PLOTLYENV=window.PLOTLYENV || {};                                    if (document.getElementById(\"c7397bb9-72df-449b-8c6a-a2f3210c68cb\")) {                    Plotly.newPlot(                        \"c7397bb9-72df-449b-8c6a-a2f3210c68cb\",                        [{\"customdata\":[[\"Conv1\"],[\"expanded_conv_project\"],[\"block_1_expand\"],[\"block_1_project\"],[\"block_2_expand\"],[\"block_2_project\"],[\"block_3_expand\"],[\"block_3_project\"],[\"block_4_expand\"],[\"block_4_project\"],[\"block_5_expand\"],[\"block_5_project\"],[\"block_6_expand\"],[\"block_6_project\"],[\"block_7_expand\"],[\"block_7_project\"],[\"block_8_expand\"],[\"block_8_project\"],[\"block_9_expand\"],[\"block_9_project\"],[\"block_10_expand\"],[\"block_10_project\"],[\"block_11_expand\"],[\"block_11_project\"],[\"block_12_expand\"],[\"block_12_project\"],[\"block_13_expand\"],[\"block_13_project\"],[\"block_14_expand\"],[\"block_14_project\"],[\"block_15_expand\"],[\"block_15_project\"],[\"block_16_expand\"],[\"block_16_project\"],[\"Conv_1\"]],\"hovertemplate\":\"Features:%{y} <br>Name of layer: %{customdata} </br>\",\"legendgroup\":\"Conv2D\",\"line\":{\"color\":\"#636efa\",\"dash\":\"solid\"},\"marker\":{\"symbol\":\"circle\"},\"mode\":\"lines\",\"name\":\"Conv2D\",\"orientation\":\"v\",\"showlegend\":true,\"x\":[0,6,8,15,17,23,26,33,35,41,44,50,53,60,62,68,71,77,80,86,89,95,97,103,106,112,115,122,124,130,133,139,142,148,150],\"xaxis\":\"x\",\"y\":[401408,200704,1204224,75264,451584,75264,451584,25088,150528,25088,150528,25088,150528,12544,75264,12544,75264,12544,75264,12544,75264,18816,112896,18816,112896,18816,112896,7840,47040,7840,47040,7840,47040,15680,62720],\"yaxis\":\"y\",\"type\":\"scatter\"},{\"customdata\":[[\"Conv1\"],[\"bn_Conv1\"],[\"Conv1_relu\"],[\"expanded_conv_depthwise\"],[\"expanded_conv_depthwise_BN\"],[\"expanded_conv_depthwise_relu\"],[\"expanded_conv_project\"],[\"expanded_conv_project_BN\"],[\"block_1_expand\"],[\"block_1_expand_BN\"],[\"block_1_expand_relu\"],[\"block_1_pad\"],[\"block_1_depthwise\"],[\"block_1_depthwise_BN\"],[\"block_1_depthwise_relu\"],[\"block_1_project\"],[\"block_1_project_BN\"],[\"block_2_expand\"],[\"block_2_expand_BN\"],[\"block_2_expand_relu\"],[\"block_2_depthwise\"],[\"block_2_depthwise_BN\"],[\"block_2_depthwise_relu\"],[\"block_2_project\"],[\"block_2_project_BN\"],[\"block_2_add\"],[\"block_3_expand\"],[\"block_3_expand_BN\"],[\"block_3_expand_relu\"],[\"block_3_pad\"],[\"block_3_depthwise\"],[\"block_3_depthwise_BN\"],[\"block_3_depthwise_relu\"],[\"block_3_project\"],[\"block_3_project_BN\"],[\"block_4_expand\"],[\"block_4_expand_BN\"],[\"block_4_expand_relu\"],[\"block_4_depthwise\"],[\"block_4_depthwise_BN\"],[\"block_4_depthwise_relu\"],[\"block_4_project\"],[\"block_4_project_BN\"],[\"block_4_add\"],[\"block_5_expand\"],[\"block_5_expand_BN\"],[\"block_5_expand_relu\"],[\"block_5_depthwise\"],[\"block_5_depthwise_BN\"],[\"block_5_depthwise_relu\"],[\"block_5_project\"],[\"block_5_project_BN\"],[\"block_5_add\"],[\"block_6_expand\"],[\"block_6_expand_BN\"],[\"block_6_expand_relu\"],[\"block_6_pad\"],[\"block_6_depthwise\"],[\"block_6_depthwise_BN\"],[\"block_6_depthwise_relu\"],[\"block_6_project\"],[\"block_6_project_BN\"],[\"block_7_expand\"],[\"block_7_expand_BN\"],[\"block_7_expand_relu\"],[\"block_7_depthwise\"],[\"block_7_depthwise_BN\"],[\"block_7_depthwise_relu\"],[\"block_7_project\"],[\"block_7_project_BN\"],[\"block_7_add\"],[\"block_8_expand\"],[\"block_8_expand_BN\"],[\"block_8_expand_relu\"],[\"block_8_depthwise\"],[\"block_8_depthwise_BN\"],[\"block_8_depthwise_relu\"],[\"block_8_project\"],[\"block_8_project_BN\"],[\"block_8_add\"],[\"block_9_expand\"],[\"block_9_expand_BN\"],[\"block_9_expand_relu\"],[\"block_9_depthwise\"],[\"block_9_depthwise_BN\"],[\"block_9_depthwise_relu\"],[\"block_9_project\"],[\"block_9_project_BN\"],[\"block_9_add\"],[\"block_10_expand\"],[\"block_10_expand_BN\"],[\"block_10_expand_relu\"],[\"block_10_depthwise\"],[\"block_10_depthwise_BN\"],[\"block_10_depthwise_relu\"],[\"block_10_project\"],[\"block_10_project_BN\"],[\"block_11_expand\"],[\"block_11_expand_BN\"],[\"block_11_expand_relu\"],[\"block_11_depthwise\"],[\"block_11_depthwise_BN\"],[\"block_11_depthwise_relu\"],[\"block_11_project\"],[\"block_11_project_BN\"],[\"block_11_add\"],[\"block_12_expand\"],[\"block_12_expand_BN\"],[\"block_12_expand_relu\"],[\"block_12_depthwise\"],[\"block_12_depthwise_BN\"],[\"block_12_depthwise_relu\"],[\"block_12_project\"],[\"block_12_project_BN\"],[\"block_12_add\"],[\"block_13_expand\"],[\"block_13_expand_BN\"],[\"block_13_expand_relu\"],[\"block_13_pad\"],[\"block_13_depthwise\"],[\"block_13_depthwise_BN\"],[\"block_13_depthwise_relu\"],[\"block_13_project\"],[\"block_13_project_BN\"],[\"block_14_expand\"],[\"block_14_expand_BN\"],[\"block_14_expand_relu\"],[\"block_14_depthwise\"],[\"block_14_depthwise_BN\"],[\"block_14_depthwise_relu\"],[\"block_14_project\"],[\"block_14_project_BN\"],[\"block_14_add\"],[\"block_15_expand\"],[\"block_15_expand_BN\"],[\"block_15_expand_relu\"],[\"block_15_depthwise\"],[\"block_15_depthwise_BN\"],[\"block_15_depthwise_relu\"],[\"block_15_project\"],[\"block_15_project_BN\"],[\"block_15_add\"],[\"block_16_expand\"],[\"block_16_expand_BN\"],[\"block_16_expand_relu\"],[\"block_16_depthwise\"],[\"block_16_depthwise_BN\"],[\"block_16_depthwise_relu\"],[\"block_16_project\"],[\"block_16_project_BN\"],[\"Conv_1\"],[\"Conv_1_bn\"],[\"out_relu\"],[\"global_average_pooling2d\"]],\"hovertemplate\":\"Features:%{y} <br>Name of layer: %{customdata} </br>\",\"legendgroup\":\"all\",\"line\":{\"color\":\"#EF553B\",\"dash\":\"solid\"},\"marker\":{\"symbol\":\"circle\"},\"mode\":\"lines\",\"name\":\"all\",\"orientation\":\"v\",\"showlegend\":true,\"x\":[0,1,2,3,4,5,6,7,8,9,10,11,12,13,14,15,16,17,18,19,20,21,22,23,24,25,26,27,28,29,30,31,32,33,34,35,36,37,38,39,40,41,42,43,44,45,46,47,48,49,50,51,52,53,54,55,56,57,58,59,60,61,62,63,64,65,66,67,68,69,70,71,72,73,74,75,76,77,78,79,80,81,82,83,84,85,86,87,88,89,90,91,92,93,94,95,96,97,98,99,100,101,102,103,104,105,106,107,108,109,110,111,112,113,114,115,116,117,118,119,120,121,122,123,124,125,126,127,128,129,130,131,132,133,134,135,136,137,138,139,140,141,142,143,144,145,146,147,148,149,150,151,152,153],\"xaxis\":\"x\",\"y\":[401408,401408,401408,401408,401408,401408,200704,200704,1204224,1204224,1204224,1225824,301056,301056,301056,75264,75264,451584,451584,451584,451584,451584,451584,75264,75264,75264,451584,451584,451584,467856,112896,112896,112896,25088,25088,150528,150528,150528,150528,150528,150528,25088,25088,25088,150528,150528,150528,150528,150528,150528,25088,25088,25088,150528,150528,150528,161472,37632,37632,37632,12544,12544,75264,75264,75264,75264,75264,75264,12544,12544,12544,75264,75264,75264,75264,75264,75264,12544,12544,12544,75264,75264,75264,75264,75264,75264,12544,12544,12544,75264,75264,75264,75264,75264,75264,18816,18816,112896,112896,112896,112896,112896,112896,18816,18816,18816,112896,112896,112896,112896,112896,112896,18816,18816,18816,112896,112896,112896,129600,28224,28224,28224,7840,7840,47040,47040,47040,47040,47040,47040,7840,7840,7840,47040,47040,47040,47040,47040,47040,7840,7840,7840,47040,47040,47040,47040,47040,47040,15680,15680,62720,62720,62720,1280],\"yaxis\":\"y\",\"type\":\"scatter\"},{\"customdata\":[[\"bn_Conv1\"],[\"expanded_conv_depthwise_BN\"],[\"expanded_conv_project_BN\"],[\"block_1_expand_BN\"],[\"block_1_depthwise_BN\"],[\"block_1_project_BN\"],[\"block_2_expand_BN\"],[\"block_2_depthwise_BN\"],[\"block_2_project_BN\"],[\"block_3_expand_BN\"],[\"block_3_depthwise_BN\"],[\"block_3_project_BN\"],[\"block_4_expand_BN\"],[\"block_4_depthwise_BN\"],[\"block_4_project_BN\"],[\"block_5_expand_BN\"],[\"block_5_depthwise_BN\"],[\"block_5_project_BN\"],[\"block_6_expand_BN\"],[\"block_6_depthwise_BN\"],[\"block_6_project_BN\"],[\"block_7_expand_BN\"],[\"block_7_depthwise_BN\"],[\"block_7_project_BN\"],[\"block_8_expand_BN\"],[\"block_8_depthwise_BN\"],[\"block_8_project_BN\"],[\"block_9_expand_BN\"],[\"block_9_depthwise_BN\"],[\"block_9_project_BN\"],[\"block_10_expand_BN\"],[\"block_10_depthwise_BN\"],[\"block_10_project_BN\"],[\"block_11_expand_BN\"],[\"block_11_depthwise_BN\"],[\"block_11_project_BN\"],[\"block_12_expand_BN\"],[\"block_12_depthwise_BN\"],[\"block_12_project_BN\"],[\"block_13_expand_BN\"],[\"block_13_depthwise_BN\"],[\"block_13_project_BN\"],[\"block_14_expand_BN\"],[\"block_14_depthwise_BN\"],[\"block_14_project_BN\"],[\"block_15_expand_BN\"],[\"block_15_depthwise_BN\"],[\"block_15_project_BN\"],[\"block_16_expand_BN\"],[\"block_16_depthwise_BN\"],[\"block_16_project_BN\"],[\"Conv_1_bn\"]],\"hovertemplate\":\"Features:%{y} <br>Name of layer: %{customdata} </br>\",\"legendgroup\":\"BatchNormalization\",\"line\":{\"color\":\"#00cc96\",\"dash\":\"solid\"},\"marker\":{\"symbol\":\"circle\"},\"mode\":\"lines\",\"name\":\"BatchNormalization\",\"orientation\":\"v\",\"showlegend\":true,\"x\":[1,4,7,9,13,16,18,21,24,27,31,34,36,39,42,45,48,51,54,58,61,63,66,69,72,75,78,81,84,87,90,93,96,98,101,104,107,110,113,116,120,123,125,128,131,134,137,140,143,146,149,151],\"xaxis\":\"x\",\"y\":[401408,401408,200704,1204224,301056,75264,451584,451584,75264,451584,112896,25088,150528,150528,25088,150528,150528,25088,150528,37632,12544,75264,75264,12544,75264,75264,12544,75264,75264,12544,75264,75264,18816,112896,112896,18816,112896,112896,18816,112896,28224,7840,47040,47040,7840,47040,47040,7840,47040,47040,15680,62720],\"yaxis\":\"y\",\"type\":\"scatter\"},{\"customdata\":[[\"Conv1_relu\"],[\"expanded_conv_depthwise_relu\"],[\"block_1_expand_relu\"],[\"block_1_depthwise_relu\"],[\"block_2_expand_relu\"],[\"block_2_depthwise_relu\"],[\"block_3_expand_relu\"],[\"block_3_depthwise_relu\"],[\"block_4_expand_relu\"],[\"block_4_depthwise_relu\"],[\"block_5_expand_relu\"],[\"block_5_depthwise_relu\"],[\"block_6_expand_relu\"],[\"block_6_depthwise_relu\"],[\"block_7_expand_relu\"],[\"block_7_depthwise_relu\"],[\"block_8_expand_relu\"],[\"block_8_depthwise_relu\"],[\"block_9_expand_relu\"],[\"block_9_depthwise_relu\"],[\"block_10_expand_relu\"],[\"block_10_depthwise_relu\"],[\"block_11_expand_relu\"],[\"block_11_depthwise_relu\"],[\"block_12_expand_relu\"],[\"block_12_depthwise_relu\"],[\"block_13_expand_relu\"],[\"block_13_depthwise_relu\"],[\"block_14_expand_relu\"],[\"block_14_depthwise_relu\"],[\"block_15_expand_relu\"],[\"block_15_depthwise_relu\"],[\"block_16_expand_relu\"],[\"block_16_depthwise_relu\"],[\"out_relu\"]],\"hovertemplate\":\"Features:%{y} <br>Name of layer: %{customdata} </br>\",\"legendgroup\":\"ReLU\",\"line\":{\"color\":\"#ab63fa\",\"dash\":\"solid\"},\"marker\":{\"symbol\":\"circle\"},\"mode\":\"lines\",\"name\":\"ReLU\",\"orientation\":\"v\",\"showlegend\":true,\"x\":[2,5,10,14,19,22,28,32,37,40,46,49,55,59,64,67,73,76,82,85,91,94,99,102,108,111,117,121,126,129,135,138,144,147,152],\"xaxis\":\"x\",\"y\":[401408,401408,1204224,301056,451584,451584,451584,112896,150528,150528,150528,150528,150528,37632,75264,75264,75264,75264,75264,75264,75264,75264,112896,112896,112896,112896,112896,28224,47040,47040,47040,47040,47040,47040,62720],\"yaxis\":\"y\",\"type\":\"scatter\"},{\"customdata\":[[\"expanded_conv_depthwise\"],[\"block_1_depthwise\"],[\"block_2_depthwise\"],[\"block_3_depthwise\"],[\"block_4_depthwise\"],[\"block_5_depthwise\"],[\"block_6_depthwise\"],[\"block_7_depthwise\"],[\"block_8_depthwise\"],[\"block_9_depthwise\"],[\"block_10_depthwise\"],[\"block_11_depthwise\"],[\"block_12_depthwise\"],[\"block_13_depthwise\"],[\"block_14_depthwise\"],[\"block_15_depthwise\"],[\"block_16_depthwise\"]],\"hovertemplate\":\"Features:%{y} <br>Name of layer: %{customdata} </br>\",\"legendgroup\":\"DepthwiseConv2D\",\"line\":{\"color\":\"#FFA15A\",\"dash\":\"solid\"},\"marker\":{\"symbol\":\"circle\"},\"mode\":\"lines\",\"name\":\"DepthwiseConv2D\",\"orientation\":\"v\",\"showlegend\":true,\"x\":[3,12,20,30,38,47,57,65,74,83,92,100,109,119,127,136,145],\"xaxis\":\"x\",\"y\":[401408,301056,451584,112896,150528,150528,37632,75264,75264,75264,75264,112896,112896,28224,47040,47040,47040],\"yaxis\":\"y\",\"type\":\"scatter\"},{\"customdata\":[[\"block_1_pad\"],[\"block_3_pad\"],[\"block_6_pad\"],[\"block_13_pad\"]],\"hovertemplate\":\"Features:%{y} <br>Name of layer: %{customdata} </br>\",\"legendgroup\":\"ZeroPadding2D\",\"line\":{\"color\":\"#19d3f3\",\"dash\":\"solid\"},\"marker\":{\"symbol\":\"circle\"},\"mode\":\"lines\",\"name\":\"ZeroPadding2D\",\"orientation\":\"v\",\"showlegend\":true,\"x\":[11,29,56,118],\"xaxis\":\"x\",\"y\":[1225824,467856,161472,129600],\"yaxis\":\"y\",\"type\":\"scatter\"},{\"customdata\":[[\"block_2_add\"],[\"block_4_add\"],[\"block_5_add\"],[\"block_7_add\"],[\"block_8_add\"],[\"block_9_add\"],[\"block_11_add\"],[\"block_12_add\"],[\"block_14_add\"],[\"block_15_add\"]],\"hovertemplate\":\"Features:%{y} <br>Name of layer: %{customdata} </br>\",\"legendgroup\":\"Add\",\"line\":{\"color\":\"#FF6692\",\"dash\":\"solid\"},\"marker\":{\"symbol\":\"circle\"},\"mode\":\"lines\",\"name\":\"Add\",\"orientation\":\"v\",\"showlegend\":true,\"x\":[25,43,52,70,79,88,105,114,132,141],\"xaxis\":\"x\",\"y\":[75264,25088,25088,12544,12544,12544,18816,18816,7840,7840],\"yaxis\":\"y\",\"type\":\"scatter\"},{\"customdata\":[[\"global_average_pooling2d\"]],\"hovertemplate\":\"Features:%{y} <br>Name of layer: %{customdata} </br>\",\"legendgroup\":\"GlobalAveragePooling2D\",\"line\":{\"color\":\"#B6E880\",\"dash\":\"solid\"},\"marker\":{\"symbol\":\"circle\"},\"mode\":\"lines\",\"name\":\"GlobalAveragePooling2D\",\"orientation\":\"v\",\"showlegend\":true,\"x\":[153],\"xaxis\":\"x\",\"y\":[1280],\"yaxis\":\"y\",\"type\":\"scatter\"}],                        {\"template\":{\"data\":{\"bar\":[{\"error_x\":{\"color\":\"#2a3f5f\"},\"error_y\":{\"color\":\"#2a3f5f\"},\"marker\":{\"line\":{\"color\":\"#E5ECF6\",\"width\":0.5},\"pattern\":{\"fillmode\":\"overlay\",\"size\":10,\"solidity\":0.2}},\"type\":\"bar\"}],\"barpolar\":[{\"marker\":{\"line\":{\"color\":\"#E5ECF6\",\"width\":0.5},\"pattern\":{\"fillmode\":\"overlay\",\"size\":10,\"solidity\":0.2}},\"type\":\"barpolar\"}],\"carpet\":[{\"aaxis\":{\"endlinecolor\":\"#2a3f5f\",\"gridcolor\":\"white\",\"linecolor\":\"white\",\"minorgridcolor\":\"white\",\"startlinecolor\":\"#2a3f5f\"},\"baxis\":{\"endlinecolor\":\"#2a3f5f\",\"gridcolor\":\"white\",\"linecolor\":\"white\",\"minorgridcolor\":\"white\",\"startlinecolor\":\"#2a3f5f\"},\"type\":\"carpet\"}],\"choropleth\":[{\"colorbar\":{\"outlinewidth\":0,\"ticks\":\"\"},\"type\":\"choropleth\"}],\"contour\":[{\"colorbar\":{\"outlinewidth\":0,\"ticks\":\"\"},\"colorscale\":[[0.0,\"#0d0887\"],[0.1111111111111111,\"#46039f\"],[0.2222222222222222,\"#7201a8\"],[0.3333333333333333,\"#9c179e\"],[0.4444444444444444,\"#bd3786\"],[0.5555555555555556,\"#d8576b\"],[0.6666666666666666,\"#ed7953\"],[0.7777777777777778,\"#fb9f3a\"],[0.8888888888888888,\"#fdca26\"],[1.0,\"#f0f921\"]],\"type\":\"contour\"}],\"contourcarpet\":[{\"colorbar\":{\"outlinewidth\":0,\"ticks\":\"\"},\"type\":\"contourcarpet\"}],\"heatmap\":[{\"colorbar\":{\"outlinewidth\":0,\"ticks\":\"\"},\"colorscale\":[[0.0,\"#0d0887\"],[0.1111111111111111,\"#46039f\"],[0.2222222222222222,\"#7201a8\"],[0.3333333333333333,\"#9c179e\"],[0.4444444444444444,\"#bd3786\"],[0.5555555555555556,\"#d8576b\"],[0.6666666666666666,\"#ed7953\"],[0.7777777777777778,\"#fb9f3a\"],[0.8888888888888888,\"#fdca26\"],[1.0,\"#f0f921\"]],\"type\":\"heatmap\"}],\"heatmapgl\":[{\"colorbar\":{\"outlinewidth\":0,\"ticks\":\"\"},\"colorscale\":[[0.0,\"#0d0887\"],[0.1111111111111111,\"#46039f\"],[0.2222222222222222,\"#7201a8\"],[0.3333333333333333,\"#9c179e\"],[0.4444444444444444,\"#bd3786\"],[0.5555555555555556,\"#d8576b\"],[0.6666666666666666,\"#ed7953\"],[0.7777777777777778,\"#fb9f3a\"],[0.8888888888888888,\"#fdca26\"],[1.0,\"#f0f921\"]],\"type\":\"heatmapgl\"}],\"histogram\":[{\"marker\":{\"pattern\":{\"fillmode\":\"overlay\",\"size\":10,\"solidity\":0.2}},\"type\":\"histogram\"}],\"histogram2d\":[{\"colorbar\":{\"outlinewidth\":0,\"ticks\":\"\"},\"colorscale\":[[0.0,\"#0d0887\"],[0.1111111111111111,\"#46039f\"],[0.2222222222222222,\"#7201a8\"],[0.3333333333333333,\"#9c179e\"],[0.4444444444444444,\"#bd3786\"],[0.5555555555555556,\"#d8576b\"],[0.6666666666666666,\"#ed7953\"],[0.7777777777777778,\"#fb9f3a\"],[0.8888888888888888,\"#fdca26\"],[1.0,\"#f0f921\"]],\"type\":\"histogram2d\"}],\"histogram2dcontour\":[{\"colorbar\":{\"outlinewidth\":0,\"ticks\":\"\"},\"colorscale\":[[0.0,\"#0d0887\"],[0.1111111111111111,\"#46039f\"],[0.2222222222222222,\"#7201a8\"],[0.3333333333333333,\"#9c179e\"],[0.4444444444444444,\"#bd3786\"],[0.5555555555555556,\"#d8576b\"],[0.6666666666666666,\"#ed7953\"],[0.7777777777777778,\"#fb9f3a\"],[0.8888888888888888,\"#fdca26\"],[1.0,\"#f0f921\"]],\"type\":\"histogram2dcontour\"}],\"mesh3d\":[{\"colorbar\":{\"outlinewidth\":0,\"ticks\":\"\"},\"type\":\"mesh3d\"}],\"parcoords\":[{\"line\":{\"colorbar\":{\"outlinewidth\":0,\"ticks\":\"\"}},\"type\":\"parcoords\"}],\"pie\":[{\"automargin\":true,\"type\":\"pie\"}],\"scatter\":[{\"marker\":{\"colorbar\":{\"outlinewidth\":0,\"ticks\":\"\"}},\"type\":\"scatter\"}],\"scatter3d\":[{\"line\":{\"colorbar\":{\"outlinewidth\":0,\"ticks\":\"\"}},\"marker\":{\"colorbar\":{\"outlinewidth\":0,\"ticks\":\"\"}},\"type\":\"scatter3d\"}],\"scattercarpet\":[{\"marker\":{\"colorbar\":{\"outlinewidth\":0,\"ticks\":\"\"}},\"type\":\"scattercarpet\"}],\"scattergeo\":[{\"marker\":{\"colorbar\":{\"outlinewidth\":0,\"ticks\":\"\"}},\"type\":\"scattergeo\"}],\"scattergl\":[{\"marker\":{\"colorbar\":{\"outlinewidth\":0,\"ticks\":\"\"}},\"type\":\"scattergl\"}],\"scattermapbox\":[{\"marker\":{\"colorbar\":{\"outlinewidth\":0,\"ticks\":\"\"}},\"type\":\"scattermapbox\"}],\"scatterpolar\":[{\"marker\":{\"colorbar\":{\"outlinewidth\":0,\"ticks\":\"\"}},\"type\":\"scatterpolar\"}],\"scatterpolargl\":[{\"marker\":{\"colorbar\":{\"outlinewidth\":0,\"ticks\":\"\"}},\"type\":\"scatterpolargl\"}],\"scatterternary\":[{\"marker\":{\"colorbar\":{\"outlinewidth\":0,\"ticks\":\"\"}},\"type\":\"scatterternary\"}],\"surface\":[{\"colorbar\":{\"outlinewidth\":0,\"ticks\":\"\"},\"colorscale\":[[0.0,\"#0d0887\"],[0.1111111111111111,\"#46039f\"],[0.2222222222222222,\"#7201a8\"],[0.3333333333333333,\"#9c179e\"],[0.4444444444444444,\"#bd3786\"],[0.5555555555555556,\"#d8576b\"],[0.6666666666666666,\"#ed7953\"],[0.7777777777777778,\"#fb9f3a\"],[0.8888888888888888,\"#fdca26\"],[1.0,\"#f0f921\"]],\"type\":\"surface\"}],\"table\":[{\"cells\":{\"fill\":{\"color\":\"#EBF0F8\"},\"line\":{\"color\":\"white\"}},\"header\":{\"fill\":{\"color\":\"#C8D4E3\"},\"line\":{\"color\":\"white\"}},\"type\":\"table\"}]},\"layout\":{\"annotationdefaults\":{\"arrowcolor\":\"#2a3f5f\",\"arrowhead\":0,\"arrowwidth\":1},\"autotypenumbers\":\"strict\",\"coloraxis\":{\"colorbar\":{\"outlinewidth\":0,\"ticks\":\"\"}},\"colorscale\":{\"diverging\":[[0,\"#8e0152\"],[0.1,\"#c51b7d\"],[0.2,\"#de77ae\"],[0.3,\"#f1b6da\"],[0.4,\"#fde0ef\"],[0.5,\"#f7f7f7\"],[0.6,\"#e6f5d0\"],[0.7,\"#b8e186\"],[0.8,\"#7fbc41\"],[0.9,\"#4d9221\"],[1,\"#276419\"]],\"sequential\":[[0.0,\"#0d0887\"],[0.1111111111111111,\"#46039f\"],[0.2222222222222222,\"#7201a8\"],[0.3333333333333333,\"#9c179e\"],[0.4444444444444444,\"#bd3786\"],[0.5555555555555556,\"#d8576b\"],[0.6666666666666666,\"#ed7953\"],[0.7777777777777778,\"#fb9f3a\"],[0.8888888888888888,\"#fdca26\"],[1.0,\"#f0f921\"]],\"sequentialminus\":[[0.0,\"#0d0887\"],[0.1111111111111111,\"#46039f\"],[0.2222222222222222,\"#7201a8\"],[0.3333333333333333,\"#9c179e\"],[0.4444444444444444,\"#bd3786\"],[0.5555555555555556,\"#d8576b\"],[0.6666666666666666,\"#ed7953\"],[0.7777777777777778,\"#fb9f3a\"],[0.8888888888888888,\"#fdca26\"],[1.0,\"#f0f921\"]]},\"colorway\":[\"#636efa\",\"#EF553B\",\"#00cc96\",\"#ab63fa\",\"#FFA15A\",\"#19d3f3\",\"#FF6692\",\"#B6E880\",\"#FF97FF\",\"#FECB52\"],\"font\":{\"color\":\"#2a3f5f\"},\"geo\":{\"bgcolor\":\"white\",\"lakecolor\":\"white\",\"landcolor\":\"#E5ECF6\",\"showlakes\":true,\"showland\":true,\"subunitcolor\":\"white\"},\"hoverlabel\":{\"align\":\"left\"},\"hovermode\":\"closest\",\"mapbox\":{\"style\":\"light\"},\"paper_bgcolor\":\"white\",\"plot_bgcolor\":\"#E5ECF6\",\"polar\":{\"angularaxis\":{\"gridcolor\":\"white\",\"linecolor\":\"white\",\"ticks\":\"\"},\"bgcolor\":\"#E5ECF6\",\"radialaxis\":{\"gridcolor\":\"white\",\"linecolor\":\"white\",\"ticks\":\"\"}},\"scene\":{\"xaxis\":{\"backgroundcolor\":\"#E5ECF6\",\"gridcolor\":\"white\",\"gridwidth\":2,\"linecolor\":\"white\",\"showbackground\":true,\"ticks\":\"\",\"zerolinecolor\":\"white\"},\"yaxis\":{\"backgroundcolor\":\"#E5ECF6\",\"gridcolor\":\"white\",\"gridwidth\":2,\"linecolor\":\"white\",\"showbackground\":true,\"ticks\":\"\",\"zerolinecolor\":\"white\"},\"zaxis\":{\"backgroundcolor\":\"#E5ECF6\",\"gridcolor\":\"white\",\"gridwidth\":2,\"linecolor\":\"white\",\"showbackground\":true,\"ticks\":\"\",\"zerolinecolor\":\"white\"}},\"shapedefaults\":{\"line\":{\"color\":\"#2a3f5f\"}},\"ternary\":{\"aaxis\":{\"gridcolor\":\"white\",\"linecolor\":\"white\",\"ticks\":\"\"},\"baxis\":{\"gridcolor\":\"white\",\"linecolor\":\"white\",\"ticks\":\"\"},\"bgcolor\":\"#E5ECF6\",\"caxis\":{\"gridcolor\":\"white\",\"linecolor\":\"white\",\"ticks\":\"\"}},\"title\":{\"x\":0.05},\"xaxis\":{\"automargin\":true,\"gridcolor\":\"white\",\"linecolor\":\"white\",\"ticks\":\"\",\"title\":{\"standoff\":15},\"zerolinecolor\":\"white\",\"zerolinewidth\":2},\"yaxis\":{\"automargin\":true,\"gridcolor\":\"white\",\"linecolor\":\"white\",\"ticks\":\"\",\"title\":{\"standoff\":15},\"zerolinecolor\":\"white\",\"zerolinewidth\":2}}},\"xaxis\":{\"anchor\":\"y\",\"domain\":[0.0,1.0],\"title\":{\"text\":\"idx\"}},\"yaxis\":{\"anchor\":\"x\",\"domain\":[0.0,1.0],\"title\":{\"text\":\"features\"}},\"legend\":{\"title\":{\"text\":\"layer type\"},\"tracegroupgap\":0},\"margin\":{\"t\":60}},                        {\"responsive\": true}                    ).then(function(){\n",
              "                            \n",
              "var gd = document.getElementById('c7397bb9-72df-449b-8c6a-a2f3210c68cb');\n",
              "var x = new MutationObserver(function (mutations, observer) {{\n",
              "        var display = window.getComputedStyle(gd).display;\n",
              "        if (!display || display === 'none') {{\n",
              "            console.log([gd, 'removed!']);\n",
              "            Plotly.purge(gd);\n",
              "            observer.disconnect();\n",
              "        }}\n",
              "}});\n",
              "\n",
              "// Listen for the removal of the full notebook cells\n",
              "var notebookContainer = gd.closest('#notebook-container');\n",
              "if (notebookContainer) {{\n",
              "    x.observe(notebookContainer, {childList: true});\n",
              "}}\n",
              "\n",
              "// Listen for the clearing of the current output cell\n",
              "var outputEl = gd.closest('.output');\n",
              "if (outputEl) {{\n",
              "    x.observe(outputEl, {childList: true});\n",
              "}}\n",
              "\n",
              "                        })                };                            </script>        </div>\n",
              "</body>\n",
              "</html>"
            ]
          },
          "metadata": {}
        }
      ]
    },
    {
      "cell_type": "markdown",
      "source": [
        "It seems weird that we don't have a linear decline in the features as these spikes. The reasoning could probably be in the paper. Wouldn't it make more sense to have a linear decline."
      ],
      "metadata": {
        "id": "cT7iuSpNRQG_"
      }
    },
    {
      "cell_type": "code",
      "source": [
        "import numpy as np\n",
        "np.unique([str(type(x)) for x in model.layers])"
      ],
      "metadata": {
        "colab": {
          "base_uri": "https://localhost:8080/"
        },
        "id": "WN5hGVxsxN79",
        "outputId": "b94710ff-5f3a-4ccd-d366-bc6fdc0392e5"
      },
      "execution_count": null,
      "outputs": [
        {
          "output_type": "execute_result",
          "data": {
            "text/plain": [
              "array([\"<class 'keras.engine.input_layer.InputLayer'>\",\n",
              "       \"<class 'keras.layers.activation.relu.ReLU'>\",\n",
              "       \"<class 'keras.layers.convolutional.conv2d.Conv2D'>\",\n",
              "       \"<class 'keras.layers.convolutional.depthwise_conv2d.DepthwiseConv2D'>\",\n",
              "       \"<class 'keras.layers.core.dense.Dense'>\",\n",
              "       \"<class 'keras.layers.merging.add.Add'>\",\n",
              "       \"<class 'keras.layers.normalization.batch_normalization.BatchNormalization'>\",\n",
              "       \"<class 'keras.layers.pooling.global_average_pooling2d.GlobalAveragePooling2D'>\",\n",
              "       \"<class 'keras.layers.reshaping.zero_padding2d.ZeroPadding2D'>\"],\n",
              "      dtype='<U78')"
            ]
          },
          "metadata": {},
          "execution_count": 18
        }
      ]
    },
    {
      "cell_type": "markdown",
      "source": [
        "m"
      ],
      "metadata": {
        "id": "LEIb8DeIXcl5"
      }
    },
    {
      "cell_type": "markdown",
      "source": [
        "Alpha effect on compression"
      ],
      "metadata": {
        "id": "PN5uaHdr76u-"
      }
    },
    {
      "cell_type": "code",
      "source": [
        "from math import prod\n",
        "import numpy as np\n",
        "import plotly.express as px\n",
        "import pandas as pd\n",
        "\n",
        "data=[]\n",
        "for alpha in [0.35,0.5,0.75,1.0,1.3,1.4]:\n",
        "  model = tf.keras.applications.MobileNetV2(alpha=alpha)\n",
        "  for idx, l in enumerate(model.layers[1:-1]):\n",
        "    data.append((prod(l.output_shape[1:]), alpha, idx))\n",
        "\n",
        "df=pd.DataFrame(data, columns=[\"features\", \"alpha\", \"idx\"])\n",
        "np.unique([prod(x.output_shape[1:]) for x in model.layers[1:-1]])\n",
        "fig = px.line(df, x=\"idx\", y=\"features\", color=\"alpha\")\n",
        "fig.show()\n"
      ],
      "metadata": {
        "colab": {
          "base_uri": "https://localhost:8080/",
          "height": 716
        },
        "id": "fBfNzIhv7-gZ",
        "outputId": "b9b72c5d-ec2b-4d6f-e0b3-26427bdc5d50"
      },
      "execution_count": 47,
      "outputs": [
        {
          "output_type": "stream",
          "name": "stdout",
          "text": [
            "Downloading data from https://storage.googleapis.com/tensorflow/keras-applications/mobilenet_v2/mobilenet_v2_weights_tf_dim_ordering_tf_kernels_0.35_224.h5\n",
            "7149872/7149872 [==============================] - 0s 0us/step\n",
            "Downloading data from https://storage.googleapis.com/tensorflow/keras-applications/mobilenet_v2/mobilenet_v2_weights_tf_dim_ordering_tf_kernels_0.5_224.h5\n",
            "8331712/8331712 [==============================] - 0s 0us/step\n",
            "Downloading data from https://storage.googleapis.com/tensorflow/keras-applications/mobilenet_v2/mobilenet_v2_weights_tf_dim_ordering_tf_kernels_0.75_224.h5\n",
            "11033352/11033352 [==============================] - 0s 0us/step\n",
            "Downloading data from https://storage.googleapis.com/tensorflow/keras-applications/mobilenet_v2/mobilenet_v2_weights_tf_dim_ordering_tf_kernels_1.3_224.h5\n",
            "22107400/22107400 [==============================] - 0s 0us/step\n",
            "Downloading data from https://storage.googleapis.com/tensorflow/keras-applications/mobilenet_v2/mobilenet_v2_weights_tf_dim_ordering_tf_kernels_1.4_224.h5\n",
            "25009072/25009072 [==============================] - 0s 0us/step\n"
          ]
        },
        {
          "output_type": "display_data",
          "data": {
            "text/html": [
              "<html>\n",
              "<head><meta charset=\"utf-8\" /></head>\n",
              "<body>\n",
              "    <div>            <script src=\"https://cdnjs.cloudflare.com/ajax/libs/mathjax/2.7.5/MathJax.js?config=TeX-AMS-MML_SVG\"></script><script type=\"text/javascript\">if (window.MathJax) {MathJax.Hub.Config({SVG: {font: \"STIX-Web\"}});}</script>                <script type=\"text/javascript\">window.PlotlyConfig = {MathJaxConfig: 'local'};</script>\n",
              "        <script src=\"https://cdn.plot.ly/plotly-2.8.3.min.js\"></script>                <div id=\"505df21e-e24c-4668-aabf-f97b388c20eb\" class=\"plotly-graph-div\" style=\"height:525px; width:100%;\"></div>            <script type=\"text/javascript\">                                    window.PLOTLYENV=window.PLOTLYENV || {};                                    if (document.getElementById(\"505df21e-e24c-4668-aabf-f97b388c20eb\")) {                    Plotly.newPlot(                        \"505df21e-e24c-4668-aabf-f97b388c20eb\",                        [{\"hovertemplate\":\"alpha=0.35<br>idx=%{x}<br>features=%{y}<extra></extra>\",\"legendgroup\":\"0.35\",\"line\":{\"color\":\"#636efa\",\"dash\":\"solid\"},\"marker\":{\"symbol\":\"circle\"},\"mode\":\"lines\",\"name\":\"0.35\",\"orientation\":\"v\",\"showlegend\":true,\"x\":[0,1,2,3,4,5,6,7,8,9,10,11,12,13,14,15,16,17,18,19,20,21,22,23,24,25,26,27,28,29,30,31,32,33,34,35,36,37,38,39,40,41,42,43,44,45,46,47,48,49,50,51,52,53,54,55,56,57,58,59,60,61,62,63,64,65,66,67,68,69,70,71,72,73,74,75,76,77,78,79,80,81,82,83,84,85,86,87,88,89,90,91,92,93,94,95,96,97,98,99,100,101,102,103,104,105,106,107,108,109,110,111,112,113,114,115,116,117,118,119,120,121,122,123,124,125,126,127,128,129,130,131,132,133,134,135,136,137,138,139,140,141,142,143,144,145,146,147,148,149,150,151,152,153],\"xaxis\":\"x\",\"y\":[200704,200704,200704,200704,200704,200704,100352,100352,602112,602112,602112,612912,150528,150528,150528,25088,25088,150528,150528,150528,150528,150528,150528,25088,25088,25088,150528,150528,150528,155952,37632,37632,37632,12544,12544,75264,75264,75264,75264,75264,75264,12544,12544,12544,75264,75264,75264,75264,75264,75264,12544,12544,12544,75264,75264,75264,80736,18816,18816,18816,4704,4704,28224,28224,28224,28224,28224,28224,4704,4704,4704,28224,28224,28224,28224,28224,28224,4704,4704,4704,28224,28224,28224,28224,28224,28224,4704,4704,4704,28224,28224,28224,28224,28224,28224,6272,6272,37632,37632,37632,37632,37632,37632,6272,6272,6272,37632,37632,37632,37632,37632,37632,6272,6272,6272,37632,37632,37632,43200,9408,9408,9408,2744,2744,16464,16464,16464,16464,16464,16464,2744,2744,2744,16464,16464,16464,16464,16464,16464,2744,2744,2744,16464,16464,16464,16464,16464,16464,5488,5488,62720,62720,62720,1280],\"yaxis\":\"y\",\"type\":\"scatter\"},{\"hovertemplate\":\"alpha=0.5<br>idx=%{x}<br>features=%{y}<extra></extra>\",\"legendgroup\":\"0.5\",\"line\":{\"color\":\"#EF553B\",\"dash\":\"solid\"},\"marker\":{\"symbol\":\"circle\"},\"mode\":\"lines\",\"name\":\"0.5\",\"orientation\":\"v\",\"showlegend\":true,\"x\":[0,1,2,3,4,5,6,7,8,9,10,11,12,13,14,15,16,17,18,19,20,21,22,23,24,25,26,27,28,29,30,31,32,33,34,35,36,37,38,39,40,41,42,43,44,45,46,47,48,49,50,51,52,53,54,55,56,57,58,59,60,61,62,63,64,65,66,67,68,69,70,71,72,73,74,75,76,77,78,79,80,81,82,83,84,85,86,87,88,89,90,91,92,93,94,95,96,97,98,99,100,101,102,103,104,105,106,107,108,109,110,111,112,113,114,115,116,117,118,119,120,121,122,123,124,125,126,127,128,129,130,131,132,133,134,135,136,137,138,139,140,141,142,143,144,145,146,147,148,149,150,151,152,153],\"xaxis\":\"x\",\"y\":[200704,200704,200704,200704,200704,200704,100352,100352,602112,602112,602112,612912,150528,150528,150528,50176,50176,301056,301056,301056,301056,301056,301056,50176,50176,50176,301056,301056,301056,311904,75264,75264,75264,12544,12544,75264,75264,75264,75264,75264,75264,12544,12544,12544,75264,75264,75264,75264,75264,75264,12544,12544,12544,75264,75264,75264,80736,18816,18816,18816,6272,6272,37632,37632,37632,37632,37632,37632,6272,6272,6272,37632,37632,37632,37632,37632,37632,6272,6272,6272,37632,37632,37632,37632,37632,37632,6272,6272,6272,37632,37632,37632,37632,37632,37632,9408,9408,56448,56448,56448,56448,56448,56448,9408,9408,9408,56448,56448,56448,56448,56448,56448,9408,9408,9408,56448,56448,56448,64800,14112,14112,14112,3920,3920,23520,23520,23520,23520,23520,23520,3920,3920,3920,23520,23520,23520,23520,23520,23520,3920,3920,3920,23520,23520,23520,23520,23520,23520,7840,7840,62720,62720,62720,1280],\"yaxis\":\"y\",\"type\":\"scatter\"},{\"hovertemplate\":\"alpha=0.75<br>idx=%{x}<br>features=%{y}<extra></extra>\",\"legendgroup\":\"0.75\",\"line\":{\"color\":\"#00cc96\",\"dash\":\"solid\"},\"marker\":{\"symbol\":\"circle\"},\"mode\":\"lines\",\"name\":\"0.75\",\"orientation\":\"v\",\"showlegend\":true,\"x\":[0,1,2,3,4,5,6,7,8,9,10,11,12,13,14,15,16,17,18,19,20,21,22,23,24,25,26,27,28,29,30,31,32,33,34,35,36,37,38,39,40,41,42,43,44,45,46,47,48,49,50,51,52,53,54,55,56,57,58,59,60,61,62,63,64,65,66,67,68,69,70,71,72,73,74,75,76,77,78,79,80,81,82,83,84,85,86,87,88,89,90,91,92,93,94,95,96,97,98,99,100,101,102,103,104,105,106,107,108,109,110,111,112,113,114,115,116,117,118,119,120,121,122,123,124,125,126,127,128,129,130,131,132,133,134,135,136,137,138,139,140,141,142,143,144,145,146,147,148,149,150,151,152,153],\"xaxis\":\"x\",\"y\":[301056,301056,301056,301056,301056,301056,200704,200704,1204224,1204224,1204224,1225824,301056,301056,301056,75264,75264,451584,451584,451584,451584,451584,451584,75264,75264,75264,451584,451584,451584,467856,112896,112896,112896,18816,18816,112896,112896,112896,112896,112896,112896,18816,18816,18816,112896,112896,112896,112896,112896,112896,18816,18816,18816,112896,112896,112896,121104,28224,28224,28224,9408,9408,56448,56448,56448,56448,56448,56448,9408,9408,9408,56448,56448,56448,56448,56448,56448,9408,9408,9408,56448,56448,56448,56448,56448,56448,9408,9408,9408,56448,56448,56448,56448,56448,56448,14112,14112,84672,84672,84672,84672,84672,84672,14112,14112,14112,84672,84672,84672,84672,84672,84672,14112,14112,14112,84672,84672,84672,97200,21168,21168,21168,5880,5880,35280,35280,35280,35280,35280,35280,5880,5880,5880,35280,35280,35280,35280,35280,35280,5880,5880,5880,35280,35280,35280,35280,35280,35280,11760,11760,62720,62720,62720,1280],\"yaxis\":\"y\",\"type\":\"scatter\"},{\"hovertemplate\":\"alpha=1.0<br>idx=%{x}<br>features=%{y}<extra></extra>\",\"legendgroup\":\"1.0\",\"line\":{\"color\":\"#ab63fa\",\"dash\":\"solid\"},\"marker\":{\"symbol\":\"circle\"},\"mode\":\"lines\",\"name\":\"1.0\",\"orientation\":\"v\",\"showlegend\":true,\"x\":[0,1,2,3,4,5,6,7,8,9,10,11,12,13,14,15,16,17,18,19,20,21,22,23,24,25,26,27,28,29,30,31,32,33,34,35,36,37,38,39,40,41,42,43,44,45,46,47,48,49,50,51,52,53,54,55,56,57,58,59,60,61,62,63,64,65,66,67,68,69,70,71,72,73,74,75,76,77,78,79,80,81,82,83,84,85,86,87,88,89,90,91,92,93,94,95,96,97,98,99,100,101,102,103,104,105,106,107,108,109,110,111,112,113,114,115,116,117,118,119,120,121,122,123,124,125,126,127,128,129,130,131,132,133,134,135,136,137,138,139,140,141,142,143,144,145,146,147,148,149,150,151,152,153],\"xaxis\":\"x\",\"y\":[401408,401408,401408,401408,401408,401408,200704,200704,1204224,1204224,1204224,1225824,301056,301056,301056,75264,75264,451584,451584,451584,451584,451584,451584,75264,75264,75264,451584,451584,451584,467856,112896,112896,112896,25088,25088,150528,150528,150528,150528,150528,150528,25088,25088,25088,150528,150528,150528,150528,150528,150528,25088,25088,25088,150528,150528,150528,161472,37632,37632,37632,12544,12544,75264,75264,75264,75264,75264,75264,12544,12544,12544,75264,75264,75264,75264,75264,75264,12544,12544,12544,75264,75264,75264,75264,75264,75264,12544,12544,12544,75264,75264,75264,75264,75264,75264,18816,18816,112896,112896,112896,112896,112896,112896,18816,18816,18816,112896,112896,112896,112896,112896,112896,18816,18816,18816,112896,112896,112896,129600,28224,28224,28224,7840,7840,47040,47040,47040,47040,47040,47040,7840,7840,7840,47040,47040,47040,47040,47040,47040,7840,7840,7840,47040,47040,47040,47040,47040,47040,15680,15680,62720,62720,62720,1280],\"yaxis\":\"y\",\"type\":\"scatter\"},{\"hovertemplate\":\"alpha=1.3<br>idx=%{x}<br>features=%{y}<extra></extra>\",\"legendgroup\":\"1.3\",\"line\":{\"color\":\"#FFA15A\",\"dash\":\"solid\"},\"marker\":{\"symbol\":\"circle\"},\"mode\":\"lines\",\"name\":\"1.3\",\"orientation\":\"v\",\"showlegend\":true,\"x\":[0,1,2,3,4,5,6,7,8,9,10,11,12,13,14,15,16,17,18,19,20,21,22,23,24,25,26,27,28,29,30,31,32,33,34,35,36,37,38,39,40,41,42,43,44,45,46,47,48,49,50,51,52,53,54,55,56,57,58,59,60,61,62,63,64,65,66,67,68,69,70,71,72,73,74,75,76,77,78,79,80,81,82,83,84,85,86,87,88,89,90,91,92,93,94,95,96,97,98,99,100,101,102,103,104,105,106,107,108,109,110,111,112,113,114,115,116,117,118,119,120,121,122,123,124,125,126,127,128,129,130,131,132,133,134,135,136,137,138,139,140,141,142,143,144,145,146,147,148,149,150,151,152,153],\"xaxis\":\"x\",\"y\":[501760,501760,501760,501760,501760,501760,301056,301056,1806336,1806336,1806336,1838736,451584,451584,451584,100352,100352,602112,602112,602112,602112,602112,602112,100352,100352,100352,602112,602112,602112,623808,150528,150528,150528,31360,31360,188160,188160,188160,188160,188160,188160,31360,31360,31360,188160,188160,188160,188160,188160,188160,31360,31360,31360,188160,188160,188160,201840,47040,47040,47040,15680,15680,94080,94080,94080,94080,94080,94080,15680,15680,15680,94080,94080,94080,94080,94080,94080,15680,15680,15680,94080,94080,94080,94080,94080,94080,15680,15680,15680,94080,94080,94080,94080,94080,94080,25088,25088,150528,150528,150528,150528,150528,150528,25088,25088,25088,150528,150528,150528,150528,150528,150528,25088,25088,25088,150528,150528,150528,172800,37632,37632,37632,10192,10192,61152,61152,61152,61152,61152,61152,10192,10192,10192,61152,61152,61152,61152,61152,61152,10192,10192,10192,61152,61152,61152,61152,61152,61152,20384,20384,81536,81536,81536,1664],\"yaxis\":\"y\",\"type\":\"scatter\"},{\"hovertemplate\":\"alpha=1.4<br>idx=%{x}<br>features=%{y}<extra></extra>\",\"legendgroup\":\"1.4\",\"line\":{\"color\":\"#19d3f3\",\"dash\":\"solid\"},\"marker\":{\"symbol\":\"circle\"},\"mode\":\"lines\",\"name\":\"1.4\",\"orientation\":\"v\",\"showlegend\":true,\"x\":[0,1,2,3,4,5,6,7,8,9,10,11,12,13,14,15,16,17,18,19,20,21,22,23,24,25,26,27,28,29,30,31,32,33,34,35,36,37,38,39,40,41,42,43,44,45,46,47,48,49,50,51,52,53,54,55,56,57,58,59,60,61,62,63,64,65,66,67,68,69,70,71,72,73,74,75,76,77,78,79,80,81,82,83,84,85,86,87,88,89,90,91,92,93,94,95,96,97,98,99,100,101,102,103,104,105,106,107,108,109,110,111,112,113,114,115,116,117,118,119,120,121,122,123,124,125,126,127,128,129,130,131,132,133,134,135,136,137,138,139,140,141,142,143,144,145,146,147,148,149,150,151,152,153],\"xaxis\":\"x\",\"y\":[602112,602112,602112,602112,602112,602112,301056,301056,1806336,1806336,1806336,1838736,451584,451584,451584,100352,100352,602112,602112,602112,602112,602112,602112,100352,100352,100352,602112,602112,602112,623808,150528,150528,150528,37632,37632,225792,225792,225792,225792,225792,225792,37632,37632,37632,225792,225792,225792,225792,225792,225792,37632,37632,37632,225792,225792,225792,242208,56448,56448,56448,17248,17248,103488,103488,103488,103488,103488,103488,17248,17248,17248,103488,103488,103488,103488,103488,103488,17248,17248,17248,103488,103488,103488,103488,103488,103488,17248,17248,17248,103488,103488,103488,103488,103488,103488,26656,26656,159936,159936,159936,159936,159936,159936,26656,26656,26656,159936,159936,159936,159936,159936,159936,26656,26656,26656,159936,159936,159936,183600,39984,39984,39984,10976,10976,65856,65856,65856,65856,65856,65856,10976,10976,10976,65856,65856,65856,65856,65856,65856,10976,10976,10976,65856,65856,65856,65856,65856,65856,21952,21952,87808,87808,87808,1792],\"yaxis\":\"y\",\"type\":\"scatter\"}],                        {\"template\":{\"data\":{\"bar\":[{\"error_x\":{\"color\":\"#2a3f5f\"},\"error_y\":{\"color\":\"#2a3f5f\"},\"marker\":{\"line\":{\"color\":\"#E5ECF6\",\"width\":0.5},\"pattern\":{\"fillmode\":\"overlay\",\"size\":10,\"solidity\":0.2}},\"type\":\"bar\"}],\"barpolar\":[{\"marker\":{\"line\":{\"color\":\"#E5ECF6\",\"width\":0.5},\"pattern\":{\"fillmode\":\"overlay\",\"size\":10,\"solidity\":0.2}},\"type\":\"barpolar\"}],\"carpet\":[{\"aaxis\":{\"endlinecolor\":\"#2a3f5f\",\"gridcolor\":\"white\",\"linecolor\":\"white\",\"minorgridcolor\":\"white\",\"startlinecolor\":\"#2a3f5f\"},\"baxis\":{\"endlinecolor\":\"#2a3f5f\",\"gridcolor\":\"white\",\"linecolor\":\"white\",\"minorgridcolor\":\"white\",\"startlinecolor\":\"#2a3f5f\"},\"type\":\"carpet\"}],\"choropleth\":[{\"colorbar\":{\"outlinewidth\":0,\"ticks\":\"\"},\"type\":\"choropleth\"}],\"contour\":[{\"colorbar\":{\"outlinewidth\":0,\"ticks\":\"\"},\"colorscale\":[[0.0,\"#0d0887\"],[0.1111111111111111,\"#46039f\"],[0.2222222222222222,\"#7201a8\"],[0.3333333333333333,\"#9c179e\"],[0.4444444444444444,\"#bd3786\"],[0.5555555555555556,\"#d8576b\"],[0.6666666666666666,\"#ed7953\"],[0.7777777777777778,\"#fb9f3a\"],[0.8888888888888888,\"#fdca26\"],[1.0,\"#f0f921\"]],\"type\":\"contour\"}],\"contourcarpet\":[{\"colorbar\":{\"outlinewidth\":0,\"ticks\":\"\"},\"type\":\"contourcarpet\"}],\"heatmap\":[{\"colorbar\":{\"outlinewidth\":0,\"ticks\":\"\"},\"colorscale\":[[0.0,\"#0d0887\"],[0.1111111111111111,\"#46039f\"],[0.2222222222222222,\"#7201a8\"],[0.3333333333333333,\"#9c179e\"],[0.4444444444444444,\"#bd3786\"],[0.5555555555555556,\"#d8576b\"],[0.6666666666666666,\"#ed7953\"],[0.7777777777777778,\"#fb9f3a\"],[0.8888888888888888,\"#fdca26\"],[1.0,\"#f0f921\"]],\"type\":\"heatmap\"}],\"heatmapgl\":[{\"colorbar\":{\"outlinewidth\":0,\"ticks\":\"\"},\"colorscale\":[[0.0,\"#0d0887\"],[0.1111111111111111,\"#46039f\"],[0.2222222222222222,\"#7201a8\"],[0.3333333333333333,\"#9c179e\"],[0.4444444444444444,\"#bd3786\"],[0.5555555555555556,\"#d8576b\"],[0.6666666666666666,\"#ed7953\"],[0.7777777777777778,\"#fb9f3a\"],[0.8888888888888888,\"#fdca26\"],[1.0,\"#f0f921\"]],\"type\":\"heatmapgl\"}],\"histogram\":[{\"marker\":{\"pattern\":{\"fillmode\":\"overlay\",\"size\":10,\"solidity\":0.2}},\"type\":\"histogram\"}],\"histogram2d\":[{\"colorbar\":{\"outlinewidth\":0,\"ticks\":\"\"},\"colorscale\":[[0.0,\"#0d0887\"],[0.1111111111111111,\"#46039f\"],[0.2222222222222222,\"#7201a8\"],[0.3333333333333333,\"#9c179e\"],[0.4444444444444444,\"#bd3786\"],[0.5555555555555556,\"#d8576b\"],[0.6666666666666666,\"#ed7953\"],[0.7777777777777778,\"#fb9f3a\"],[0.8888888888888888,\"#fdca26\"],[1.0,\"#f0f921\"]],\"type\":\"histogram2d\"}],\"histogram2dcontour\":[{\"colorbar\":{\"outlinewidth\":0,\"ticks\":\"\"},\"colorscale\":[[0.0,\"#0d0887\"],[0.1111111111111111,\"#46039f\"],[0.2222222222222222,\"#7201a8\"],[0.3333333333333333,\"#9c179e\"],[0.4444444444444444,\"#bd3786\"],[0.5555555555555556,\"#d8576b\"],[0.6666666666666666,\"#ed7953\"],[0.7777777777777778,\"#fb9f3a\"],[0.8888888888888888,\"#fdca26\"],[1.0,\"#f0f921\"]],\"type\":\"histogram2dcontour\"}],\"mesh3d\":[{\"colorbar\":{\"outlinewidth\":0,\"ticks\":\"\"},\"type\":\"mesh3d\"}],\"parcoords\":[{\"line\":{\"colorbar\":{\"outlinewidth\":0,\"ticks\":\"\"}},\"type\":\"parcoords\"}],\"pie\":[{\"automargin\":true,\"type\":\"pie\"}],\"scatter\":[{\"marker\":{\"colorbar\":{\"outlinewidth\":0,\"ticks\":\"\"}},\"type\":\"scatter\"}],\"scatter3d\":[{\"line\":{\"colorbar\":{\"outlinewidth\":0,\"ticks\":\"\"}},\"marker\":{\"colorbar\":{\"outlinewidth\":0,\"ticks\":\"\"}},\"type\":\"scatter3d\"}],\"scattercarpet\":[{\"marker\":{\"colorbar\":{\"outlinewidth\":0,\"ticks\":\"\"}},\"type\":\"scattercarpet\"}],\"scattergeo\":[{\"marker\":{\"colorbar\":{\"outlinewidth\":0,\"ticks\":\"\"}},\"type\":\"scattergeo\"}],\"scattergl\":[{\"marker\":{\"colorbar\":{\"outlinewidth\":0,\"ticks\":\"\"}},\"type\":\"scattergl\"}],\"scattermapbox\":[{\"marker\":{\"colorbar\":{\"outlinewidth\":0,\"ticks\":\"\"}},\"type\":\"scattermapbox\"}],\"scatterpolar\":[{\"marker\":{\"colorbar\":{\"outlinewidth\":0,\"ticks\":\"\"}},\"type\":\"scatterpolar\"}],\"scatterpolargl\":[{\"marker\":{\"colorbar\":{\"outlinewidth\":0,\"ticks\":\"\"}},\"type\":\"scatterpolargl\"}],\"scatterternary\":[{\"marker\":{\"colorbar\":{\"outlinewidth\":0,\"ticks\":\"\"}},\"type\":\"scatterternary\"}],\"surface\":[{\"colorbar\":{\"outlinewidth\":0,\"ticks\":\"\"},\"colorscale\":[[0.0,\"#0d0887\"],[0.1111111111111111,\"#46039f\"],[0.2222222222222222,\"#7201a8\"],[0.3333333333333333,\"#9c179e\"],[0.4444444444444444,\"#bd3786\"],[0.5555555555555556,\"#d8576b\"],[0.6666666666666666,\"#ed7953\"],[0.7777777777777778,\"#fb9f3a\"],[0.8888888888888888,\"#fdca26\"],[1.0,\"#f0f921\"]],\"type\":\"surface\"}],\"table\":[{\"cells\":{\"fill\":{\"color\":\"#EBF0F8\"},\"line\":{\"color\":\"white\"}},\"header\":{\"fill\":{\"color\":\"#C8D4E3\"},\"line\":{\"color\":\"white\"}},\"type\":\"table\"}]},\"layout\":{\"annotationdefaults\":{\"arrowcolor\":\"#2a3f5f\",\"arrowhead\":0,\"arrowwidth\":1},\"autotypenumbers\":\"strict\",\"coloraxis\":{\"colorbar\":{\"outlinewidth\":0,\"ticks\":\"\"}},\"colorscale\":{\"diverging\":[[0,\"#8e0152\"],[0.1,\"#c51b7d\"],[0.2,\"#de77ae\"],[0.3,\"#f1b6da\"],[0.4,\"#fde0ef\"],[0.5,\"#f7f7f7\"],[0.6,\"#e6f5d0\"],[0.7,\"#b8e186\"],[0.8,\"#7fbc41\"],[0.9,\"#4d9221\"],[1,\"#276419\"]],\"sequential\":[[0.0,\"#0d0887\"],[0.1111111111111111,\"#46039f\"],[0.2222222222222222,\"#7201a8\"],[0.3333333333333333,\"#9c179e\"],[0.4444444444444444,\"#bd3786\"],[0.5555555555555556,\"#d8576b\"],[0.6666666666666666,\"#ed7953\"],[0.7777777777777778,\"#fb9f3a\"],[0.8888888888888888,\"#fdca26\"],[1.0,\"#f0f921\"]],\"sequentialminus\":[[0.0,\"#0d0887\"],[0.1111111111111111,\"#46039f\"],[0.2222222222222222,\"#7201a8\"],[0.3333333333333333,\"#9c179e\"],[0.4444444444444444,\"#bd3786\"],[0.5555555555555556,\"#d8576b\"],[0.6666666666666666,\"#ed7953\"],[0.7777777777777778,\"#fb9f3a\"],[0.8888888888888888,\"#fdca26\"],[1.0,\"#f0f921\"]]},\"colorway\":[\"#636efa\",\"#EF553B\",\"#00cc96\",\"#ab63fa\",\"#FFA15A\",\"#19d3f3\",\"#FF6692\",\"#B6E880\",\"#FF97FF\",\"#FECB52\"],\"font\":{\"color\":\"#2a3f5f\"},\"geo\":{\"bgcolor\":\"white\",\"lakecolor\":\"white\",\"landcolor\":\"#E5ECF6\",\"showlakes\":true,\"showland\":true,\"subunitcolor\":\"white\"},\"hoverlabel\":{\"align\":\"left\"},\"hovermode\":\"closest\",\"mapbox\":{\"style\":\"light\"},\"paper_bgcolor\":\"white\",\"plot_bgcolor\":\"#E5ECF6\",\"polar\":{\"angularaxis\":{\"gridcolor\":\"white\",\"linecolor\":\"white\",\"ticks\":\"\"},\"bgcolor\":\"#E5ECF6\",\"radialaxis\":{\"gridcolor\":\"white\",\"linecolor\":\"white\",\"ticks\":\"\"}},\"scene\":{\"xaxis\":{\"backgroundcolor\":\"#E5ECF6\",\"gridcolor\":\"white\",\"gridwidth\":2,\"linecolor\":\"white\",\"showbackground\":true,\"ticks\":\"\",\"zerolinecolor\":\"white\"},\"yaxis\":{\"backgroundcolor\":\"#E5ECF6\",\"gridcolor\":\"white\",\"gridwidth\":2,\"linecolor\":\"white\",\"showbackground\":true,\"ticks\":\"\",\"zerolinecolor\":\"white\"},\"zaxis\":{\"backgroundcolor\":\"#E5ECF6\",\"gridcolor\":\"white\",\"gridwidth\":2,\"linecolor\":\"white\",\"showbackground\":true,\"ticks\":\"\",\"zerolinecolor\":\"white\"}},\"shapedefaults\":{\"line\":{\"color\":\"#2a3f5f\"}},\"ternary\":{\"aaxis\":{\"gridcolor\":\"white\",\"linecolor\":\"white\",\"ticks\":\"\"},\"baxis\":{\"gridcolor\":\"white\",\"linecolor\":\"white\",\"ticks\":\"\"},\"bgcolor\":\"#E5ECF6\",\"caxis\":{\"gridcolor\":\"white\",\"linecolor\":\"white\",\"ticks\":\"\"}},\"title\":{\"x\":0.05},\"xaxis\":{\"automargin\":true,\"gridcolor\":\"white\",\"linecolor\":\"white\",\"ticks\":\"\",\"title\":{\"standoff\":15},\"zerolinecolor\":\"white\",\"zerolinewidth\":2},\"yaxis\":{\"automargin\":true,\"gridcolor\":\"white\",\"linecolor\":\"white\",\"ticks\":\"\",\"title\":{\"standoff\":15},\"zerolinecolor\":\"white\",\"zerolinewidth\":2}}},\"xaxis\":{\"anchor\":\"y\",\"domain\":[0.0,1.0],\"title\":{\"text\":\"idx\"}},\"yaxis\":{\"anchor\":\"x\",\"domain\":[0.0,1.0],\"title\":{\"text\":\"features\"}},\"legend\":{\"title\":{\"text\":\"alpha\"},\"tracegroupgap\":0},\"margin\":{\"t\":60}},                        {\"responsive\": true}                    ).then(function(){\n",
              "                            \n",
              "var gd = document.getElementById('505df21e-e24c-4668-aabf-f97b388c20eb');\n",
              "var x = new MutationObserver(function (mutations, observer) {{\n",
              "        var display = window.getComputedStyle(gd).display;\n",
              "        if (!display || display === 'none') {{\n",
              "            console.log([gd, 'removed!']);\n",
              "            Plotly.purge(gd);\n",
              "            observer.disconnect();\n",
              "        }}\n",
              "}});\n",
              "\n",
              "// Listen for the removal of the full notebook cells\n",
              "var notebookContainer = gd.closest('#notebook-container');\n",
              "if (notebookContainer) {{\n",
              "    x.observe(notebookContainer, {childList: true});\n",
              "}}\n",
              "\n",
              "// Listen for the clearing of the current output cell\n",
              "var outputEl = gd.closest('.output');\n",
              "if (outputEl) {{\n",
              "    x.observe(outputEl, {childList: true});\n",
              "}}\n",
              "\n",
              "                        })                };                            </script>        </div>\n",
              "</body>\n",
              "</html>"
            ]
          },
          "metadata": {}
        }
      ]
    },
    {
      "cell_type": "markdown",
      "source": [
        "### Conclusion on compression\n",
        "\n",
        "We only have to look at the smallet layer which is the output layer"
      ],
      "metadata": {
        "id": "x-nsybvh9KOg"
      }
    },
    {
      "cell_type": "code",
      "source": [
        "model.layers[0].input_shape"
      ],
      "metadata": {
        "colab": {
          "base_uri": "https://localhost:8080/"
        },
        "id": "Hydj08fo9afS",
        "outputId": "e5b432a6-b3c3-4e4d-fce1-6d321c12914f"
      },
      "execution_count": 50,
      "outputs": [
        {
          "output_type": "execute_result",
          "data": {
            "text/plain": [
              "[(None, 224, 224, 3)]"
            ]
          },
          "metadata": {},
          "execution_count": 50
        }
      ]
    },
    {
      "cell_type": "code",
      "source": [
        "compression = 224*224*3/1280\n",
        "print(f\"Compression ratio is {compression}\")"
      ],
      "metadata": {
        "colab": {
          "base_uri": "https://localhost:8080/"
        },
        "id": "UaX1tuze9Nm4",
        "outputId": "1fb48dd0-1b28-4f8e-9768-fda2e67487f4"
      },
      "execution_count": 52,
      "outputs": [
        {
          "output_type": "stream",
          "name": "stdout",
          "text": [
            "Compression ratio is 117.6\n"
          ]
        }
      ]
    },
    {
      "cell_type": "code",
      "source": [],
      "metadata": {
        "id": "KuYdQGhU9nM2"
      },
      "execution_count": null,
      "outputs": []
    }
  ]
}