{
  "cells": [
    {
      "cell_type": "code",
      "execution_count": null,
      "metadata": {
        "id": "vNRbdMk0Ok5F"
      },
      "outputs": [],
      "source": [
        "import tensorflow as tf\n",
        "from tensorflow import keras\n",
        "import os\n",
        "import tarfile \n",
        "import matplotlib.pyplot as plt\n",
        "import pandas as pd"
      ]
    },
    {
      "cell_type": "markdown",
      "metadata": {
        "id": "p0ic8eJSAZ5Y"
      },
      "source": [
        "# Extract and Load Data"
      ]
    },
    {
      "cell_type": "code",
      "execution_count": null,
      "metadata": {
        "id": "9m5-_JLTO2Ua"
      },
      "outputs": [],
      "source": [
        "tarfile_path = './dataset.tar'\n",
        "with tarfile.TarFile(tarfile_path) as f:\n",
        "  f.extractall()"
      ]
    },
    {
      "cell_type": "code",
      "execution_count": null,
      "metadata": {
        "colab": {
          "base_uri": "https://localhost:8080/"
        },
        "id": "oVeYkApjV6hS",
        "outputId": "8eadb738-90c0-4476-a7e4-43d0d1d6ac1d"
      },
      "outputs": [],
      "source": [
        "batch_size = 128\n",
        "\n",
        "train_ds = keras.utils.image_dataset_from_directory(\n",
        "    './Dataset/train',\n",
        "    label_mode='int',\n",
        "    batch_size=64,\n",
        "    image_size=(224, 224),\n",
        ")\n",
        "\n",
        "val_ds = keras.utils.image_dataset_from_directory(\n",
        "    './Dataset/val',\n",
        "    label_mode='int',\n",
        "    batch_size=64,\n",
        "    image_size=(224, 224),\n",
        "    shuffle = False\n",
        ")"
      ]
    },
    {
      "cell_type": "markdown",
      "metadata": {
        "id": "YQanVj5vAml-"
      },
      "source": [
        "# Create model"
      ]
    },
    {
      "cell_type": "markdown",
      "metadata": {
        "id": "pDhAxNpiBvod"
      },
      "source": [
        "## Get Feature Extractor"
      ]
    },
    {
      "cell_type": "code",
      "execution_count": null,
      "metadata": {
        "id": "Nj47VfSHO2Rx"
      },
      "outputs": [],
      "source": [
        "mobile_net_feature_extractor = keras.applications.mobilenet_v2.MobileNetV2(\n",
        "    alpha=1.0,\n",
        "    include_top=False, \n",
        "    weights='imagenet', \n",
        "    input_shape = (224,224,3), \n",
        "    pooling='avg'\n",
        "    )\n",
        "for layer in mobile_net_feature_extractor.layers:\n",
        "  layer.trainable = False"
      ]
    },
    {
      "cell_type": "markdown",
      "metadata": {
        "id": "DZx07DUMBzG6"
      },
      "source": [
        "## Helper Functions to create models"
      ]
    },
    {
      "cell_type": "code",
      "execution_count": null,
      "metadata": {
        "id": "kz9lNgpiO2Lu"
      },
      "outputs": [],
      "source": [
        "def create_baseline_model(feature_extractor, classes = 1000, image_size = 224):\n",
        "  inp = keras.Input(shape = (image_size, image_size,3))\n",
        "  x = keras.applications.mobilenet_v2.preprocess_input(inp)\n",
        "  x = feature_extractor(x)\n",
        "  out = keras.layers.Dense(classes, activation = 'softmax')(x)\n",
        "\n",
        "  return keras.models.Model(inputs=[inp], outputs= [out])"
      ]
    },
    {
      "cell_type": "markdown",
      "metadata": {
        "id": "lRdsWhRzCGzw"
      },
      "source": [
        "# Training"
      ]
    },
    {
      "cell_type": "code",
      "execution_count": null,
      "metadata": {
        "id": "8aKxPaoSF_Hd"
      },
      "outputs": [],
      "source": [
        "model_name = 'baseline'\n",
        "epochs = 1000"
      ]
    },
    {
      "cell_type": "code",
      "execution_count": null,
      "metadata": {
        "id": "S9JGuRdeVdpb"
      },
      "outputs": [],
      "source": [
        "model = create_baseline_model(mobile_net_feature_extractor)"
      ]
    },
    {
      "cell_type": "code",
      "execution_count": null,
      "metadata": {
        "id": "GOL0bg60EIZJ"
      },
      "outputs": [],
      "source": [
        "callbacks = [\n",
        "    tf.keras.callbacks.EarlyStopping(monitor='val_loss', patience= 15, verbose = 1),\n",
        "    tf.keras.callbacks.ModelCheckpoint(filepath = f'./{model_name}.h5', monitor = 'val_loss', save_best_only = True, verbose = 1),\n",
        "    tf.keras.callbacks.LearningRateScheduler(keras.optimizers.schedules.ExponentialDecay(initial_learning_rate=0.045, decay_steps=1, decay_rate=0.98))\n",
        "    ]"
      ]
    },
    {
      "cell_type": "code",
      "execution_count": null,
      "metadata": {
        "colab": {
          "base_uri": "https://localhost:8080/"
        },
        "id": "w6iaMXfeRDj4",
        "outputId": "035fe0a1-6b07-4cb2-c176-37b3fce68efe"
      },
      "outputs": [],
      "source": [
        "model.compile(\n",
        "      optimizer= keras.optimizers.RMSprop(\n",
        "          learning_rate = 0.045,\n",
        "          momentum=0.9,\n",
        "          rho = 0.9\n",
        "          ),\n",
        "      loss = keras.losses.SparseCategoricalCrossentropy(), \n",
        "      metrics=['accuracy']\n",
        "      )\n",
        "\n",
        "history = model.fit(\n",
        "    train_ds,\n",
        "    batch_size = batch_size,\n",
        "    epochs = epochs,\n",
        "    callbacks = callbacks,\n",
        "    validation_data = val_ds\n",
        "    )"
      ]
    },
    {
      "cell_type": "markdown",
      "metadata": {
        "id": "Y-pkMaxpEun_"
      },
      "source": [
        "## Train plots"
      ]
    },
    {
      "cell_type": "code",
      "execution_count": 29,
      "metadata": {
        "id": "KlCFLf1TEvnf"
      },
      "outputs": [
        {
          "data": {
            "image/png": "[encoded data removed]",
            "text/plain": [
              "<Figure size 640x480 with 1 Axes>"
            ]
          },
          "metadata": {},
          "output_type": "display_data"
        },
        {
          "data": {
            "image/png": "[encoded data removed]",
            "text/plain": [
              "<Figure size 640x480 with 1 Axes>"
            ]
          },
          "metadata": {},
          "output_type": "display_data"
        }
      ],
      "source": [
        "pd.DataFrame(history.history).to_csv(f'{model_name}.csv', index = False)\n",
        "\n",
        "df = pd.read_csv('baseline.csv')\n",
        "\n",
        "df[['val_accuracy', 'accuracy']].plot()\n",
        "df[['val_loss', 'loss']].plot()\n"
      ]
    },
    {
      "cell_type": "markdown",
      "metadata": {
        "id": "Djgy_kOYEkvb"
      },
      "source": [
        "# Test result"
      ]
    },
    {
      "cell_type": "code",
      "execution_count": null,
      "metadata": {
        "id": "rcmfeg5sO2HE"
      },
      "outputs": [],
      "source": [
        "predictions = model.predict(val_ds)\n"
      ]
    }
  ],
  "metadata": {
    "accelerator": "GPU",
    "colab": {
      "provenance": []
    },
    "gpuClass": "standard",
    "kernelspec": {
      "display_name": "Python 3.10.5 ('venv': venv)",
      "language": "python",
      "name": "python3"
    },
    "language_info": {
      "codemirror_mode": {
        "name": "ipython",
        "version": 3
      },
      "file_extension": ".py",
      "mimetype": "text/x-python",
      "name": "python",
      "nbconvert_exporter": "python",
      "pygments_lexer": "ipython3",
      "version": "3.10.5"
    },
    "vscode": {
      "interpreter": {
        "hash": "a34a21207f2ce0db3116cd2292fdc7281ccb63edb55bd72648ac70c67f93d5eb"
      }
    }
  },
  "nbformat": 4,
  "nbformat_minor": 0
}
