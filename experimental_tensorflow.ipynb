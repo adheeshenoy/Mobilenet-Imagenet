{
 "cells": [
  {
   "cell_type": "code",
   "execution_count": null,
   "metadata": {
    "id": "vNRbdMk0Ok5F"
   },
   "outputs": [],
   "source": [
    "import os\n",
    "os.environ['CUDA_VISIBLE_DEVICES'] = '1'\n",
    "os.environ['TF_FORCE_GPU_ALLOW_GROWTH'] = 'true'\n",
    "\n",
    "\n",
    "import tensorflow as tf\n",
    "from tensorflow import keras\n",
    "import tarfile \n",
    "import matplotlib.pyplot as plt\n",
    "import pandas as pd\n",
    "from collections import Counter\n",
    "from math import log2, log10"
   ]
  },
  {
   "cell_type": "markdown",
   "metadata": {
    "id": "p0ic8eJSAZ5Y"
   },
   "source": [
    "# Extract and Load Data"
   ]
  },
  {
   "cell_type": "code",
   "execution_count": null,
   "metadata": {
    "id": "9m5-_JLTO2Ua"
   },
   "outputs": [],
   "source": [
    "def extract_data(tarfile_path = './dataset.tar'):\n",
    "  with tarfile.TarFile(tarfile_path) as f:\n",
    "    f.extractall()\n",
    "\n",
    "extract_data()"
   ]
  },
  {
   "cell_type": "code",
   "execution_count": null,
   "metadata": {
    "colab": {
     "base_uri": "https://localhost:8080/"
    },
    "id": "oVeYkApjV6hS",
    "outputId": "8eadb738-90c0-4476-a7e4-43d0d1d6ac1d"
   },
   "outputs": [],
   "source": [
    "batch_size = 128\n",
    "\n",
    "train_ds = keras.utils.image_dataset_from_directory(\n",
    "    './Dataset/train',\n",
    "    label_mode='int',\n",
    "    batch_size=batch_size,\n",
    "    image_size=(224, 224),\n",
    ")\n",
    "\n",
    "val_ds = keras.utils.image_dataset_from_directory(\n",
    "    './Dataset/val',\n",
    "    label_mode='int',\n",
    "    batch_size=batch_size,\n",
    "    image_size=(224, 224),\n",
    "    shuffle = False\n",
    ")\n",
    "\n",
    "\n",
    "train_ds = train_ds.map(lambda x, y: (keras.applications.mobilenet_v2.preprocess_input(x), y))\n",
    "val_ds = val_ds.map(lambda x, y: (keras.applications.mobilenet_v2.preprocess_input(x), y))"
   ]
  },
  {
   "cell_type": "markdown",
   "metadata": {
    "id": "YQanVj5vAml-"
   },
   "source": [
    "# Create model"
   ]
  },
  {
   "cell_type": "markdown",
   "metadata": {
    "id": "pDhAxNpiBvod"
   },
   "source": [
    "## Get Feature Extractor"
   ]
  },
  {
   "cell_type": "code",
   "execution_count": null,
   "metadata": {
    "id": "Nj47VfSHO2Rx"
   },
   "outputs": [],
   "source": [
    "mobile_net_feature_extractor = keras.applications.mobilenet_v2.MobileNetV2(\n",
    "    alpha=1,\n",
    "    include_top=False, \n",
    "    weights='imagenet', \n",
    "    input_shape = (224,224,3), \n",
    "    pooling='avg'\n",
    "    )\n",
    "for layer in mobile_net_feature_extractor.layers:\n",
    "    layer.trainable = False"
   ]
  },
  {
   "cell_type": "code",
   "execution_count": null,
   "metadata": {},
   "outputs": [],
   "source": [
    "mobile_net_feature_extractor.summary()"
   ]
  },
  {
   "cell_type": "markdown",
   "metadata": {
    "id": "DZx07DUMBzG6"
   },
   "source": [
    "## Helper Functions to create models"
   ]
  },
  {
   "cell_type": "code",
   "execution_count": null,
   "metadata": {
    "id": "kz9lNgpiO2Lu"
   },
   "outputs": [],
   "source": [
    "def create_baseline_model(feature_extractor, classes = 1000, image_size = 224):\n",
    "    # MEC 1281000\n",
    "    inp = keras.Input(shape = (image_size, image_size,3))\n",
    "    x = feature_extractor(inp)\n",
    "    out = keras.layers.Dense(classes, activation = 'softmax')(x)\n",
    "\n",
    "    return keras.models.Model(inputs=[inp], outputs= [out])\n",
    "\n",
    "def create_mec_model(feature_extractor, n, classes = 1000, image_size = 224):\n",
    "    '''\n",
    "    32: 41024\n",
    "    42: 53844\n",
    "    54: 69228\n",
    "    77: 98714\n",
    "    500: 641000\n",
    "    750: 961500\n",
    "    875: 1121750\n",
    "    950: 1217900\n",
    "    '''\n",
    "    inp = keras.Input(shape = (image_size, image_size,3))\n",
    "    x = feature_extractor(inp)\n",
    "    x = keras.layers.Dense(n)(x)\n",
    "    out = keras.layers.Dense(classes, activation = 'softmax')(x)\n",
    "    return keras.models.Model(inputs=[inp], outputs= [out]) \n",
    "\n",
    "def create_mec_model_with_relu(feature_extractor, n, classes = 1000, image_size = 224):\n",
    "    inp = keras.Input(shape = (image_size, image_size,3))\n",
    "    x = feature_extractor(inp)\n",
    "    x = keras.layers.Dense(n, activation = 'relu')(x)\n",
    "    out = keras.layers.Dense(classes, activation = 'softmax')(x)\n",
    "    return keras.models.Model(inputs=[inp], outputs= [out]) "
   ]
  },
  {
   "cell_type": "markdown",
   "metadata": {
    "id": "lRdsWhRzCGzw"
   },
   "source": [
    "# Training"
   ]
  },
  {
   "cell_type": "code",
   "execution_count": null,
   "metadata": {
    "id": "8aKxPaoSF_Hd"
   },
   "outputs": [],
   "source": [
    "model_name = 'baseline'\n",
    "os.mkdir(model_name)\n",
    "epochs = 1000\n",
    "overfit = True"
   ]
  },
  {
   "cell_type": "code",
   "execution_count": null,
   "metadata": {
    "id": "S9JGuRdeVdpb"
   },
   "outputs": [],
   "source": [
    "model = create_baseline_model(mobile_net_feature_extractor)\n",
    "# model = create_mec_model(mobile_net_feature_extractor, 32)\n",
    "# model = create_mec_model_with_relu(mobile_net_feature_extractor, 32)\n",
    "model.summary()"
   ]
  },
  {
   "cell_type": "code",
   "execution_count": null,
   "metadata": {
    "id": "GOL0bg60EIZJ"
   },
   "outputs": [],
   "source": [
    "callbacks = [\n",
    "        tf.keras.callbacks.EarlyStopping(monitor='loss', patience= 10, verbose = 1),\n",
    "        tf.keras.callbacks.ModelCheckpoint(filepath = f'./{model_name}/{model_name}.h5', monitor = 'loss', save_best_only = True, verbose = 1),\n",
    "        tf.keras.callbacks.LearningRateScheduler(keras.optimizers.schedules.ExponentialDecay(initial_learning_rate=0.045, decay_steps=1, decay_rate=0.98))\n",
    "        ]"
   ]
  },
  {
   "cell_type": "code",
   "execution_count": null,
   "metadata": {
    "colab": {
     "base_uri": "https://localhost:8080/"
    },
    "id": "w6iaMXfeRDj4",
    "outputId": "035fe0a1-6b07-4cb2-c176-37b3fce68efe"
   },
   "outputs": [],
   "source": [
    "model.compile(\n",
    "      optimizer= keras.optimizers.RMSprop(\n",
    "          learning_rate = 0.045,\n",
    "          momentum=0.9,\n",
    "          rho = 0.9\n",
    "          ),\n",
    "      loss = keras.losses.SparseCategoricalCrossentropy(), \n",
    "      metrics=['accuracy']\n",
    "      )\n",
    "\n",
    "history = model.fit(\n",
    "    train_ds,\n",
    "    batch_size = batch_size,\n",
    "    epochs = epochs,\n",
    "    callbacks = callbacks,\n",
    "    validation_data = val_ds\n",
    "    )"
   ]
  },
  {
   "cell_type": "markdown",
   "metadata": {
    "id": "Y-pkMaxpEun_"
   },
   "source": [
    "## Train plots"
   ]
  },
  {
   "cell_type": "code",
   "execution_count": null,
   "metadata": {
    "id": "KlCFLf1TEvnf"
   },
   "outputs": [],
   "source": [
    "pd.DataFrame(history.history).to_csv(f'./{model_name}/{model_name}.csv', index = False)\n",
    "\n",
    "df = pd.read_csv(f'./{model_name}/{model_name}.csv')\n",
    "\n",
    "df[['val_accuracy', 'accuracy']].plot()\n",
    "df[['val_loss', 'loss']].plot()\n"
   ]
  },
  {
   "cell_type": "markdown",
   "metadata": {
    "id": "Djgy_kOYEkvb"
   },
   "source": [
    "# Test result"
   ]
  },
  {
   "cell_type": "code",
   "execution_count": null,
   "metadata": {},
   "outputs": [],
   "source": [
    "batch_size = 128\n",
    "model_path = './{model_name}/{model_name}.h5'\n",
    "MEC = 1.28e6\n",
    "\n",
    "train_ds = keras.utils.image_dataset_from_directory(\n",
    "    './Dataset/train',\n",
    "    label_mode='int',\n",
    "    batch_size=batch_size,\n",
    "    image_size=(224, 224),\n",
    "    shuffle = False\n",
    ")\n",
    "\n",
    "val_ds = keras.utils.image_dataset_from_directory(\n",
    "    './Dataset/val',\n",
    "    label_mode='int',\n",
    "    batch_size=batch_size,\n",
    "    image_size=(224, 224),\n",
    "    shuffle = False\n",
    ")\n",
    "\n",
    "train_ds = train_ds.map(lambda x, y: (keras.applications.mobilenet_v2.preprocess_input(x), y))\n",
    "val_ds = val_ds.map(lambda x, y: (keras.applications.mobilenet_v2.preprocess_input(x), y))"
   ]
  },
  {
   "cell_type": "code",
   "execution_count": null,
   "metadata": {
    "id": "rcmfeg5sO2HE"
   },
   "outputs": [],
   "source": [
    "import numpy as np\n",
    "from sklearn.metrics import top_k_accuracy_score\n",
    "\n",
    "def get_predictions_and_labels(model, data):\n",
    "    predictions = model.predict(data)\n",
    "    labels = []\n",
    "    for _, y in data.as_numpy_iterator():\n",
    "        labels.extend(y)\n",
    "        \n",
    "    return predictions, labels\n",
    "\n",
    "def generalization_ratio(labels, predictions, MEC):\n",
    "    class_count = Counter(labels)\n",
    "    correct_prediction_count = {i:0 for i in range(1000)}\n",
    "\n",
    "    for p, gt in zip(predictions, labels):\n",
    "        if np.argmax(p) == gt:\n",
    "            correct_prediction_count[gt] += 1\n",
    "\n",
    "    G = -sum(correct_prediction_count[key] * log2(class_count[key] / len(labels)) for key in class_count)/MEC\n",
    "    R = 20 * log10(1/G)\n",
    "    return G, R\n",
    "\n",
    "\n",
    "def get_performance_description(model, data, MEC):\n",
    "    predictions, labels = get_predictions_and_labels(model, data)\n",
    "    print('Top 1 accuracy:', top_k_accuracy_score(labels, predictions, k = 1))\n",
    "    print('Top 5 accuracy:', top_k_accuracy_score(labels, predictions, k = 5))\n",
    "    G, R = generalization_ratio(labels, predictions, MEC)\n",
    "    print(f'Generalization ratio: {G}')\n",
    "    print(f'Resilience: {R} dB')"
   ]
  },
  {
   "cell_type": "code",
   "execution_count": null,
   "metadata": {},
   "outputs": [],
   "source": [
    "model = keras.models.load_model(model_path)\n",
    "model.trainable = False"
   ]
  },
  {
   "cell_type": "code",
   "execution_count": null,
   "metadata": {},
   "outputs": [],
   "source": [
    "get_performance_description(model_path, train_ds, MEC)"
   ]
  },
  {
   "cell_type": "code",
   "execution_count": null,
   "metadata": {},
   "outputs": [],
   "source": [
    "get_performance_description(model_path, val_ds, MEC)"
   ]
  },
  {
   "cell_type": "code",
   "execution_count": null,
   "metadata": {},
   "outputs": [],
   "source": []
  }
 ],
 "metadata": {
  "accelerator": "GPU",
  "colab": {
   "provenance": []
  },
  "gpuClass": "standard",
  "kernelspec": {
   "display_name": "Python 3",
   "language": "python",
   "name": "python3"
  },
  "language_info": {
   "codemirror_mode": {
    "name": "ipython",
    "version": 3
   },
   "file_extension": ".py",
   "mimetype": "text/x-python",
   "name": "python",
   "nbconvert_exporter": "python",
   "pygments_lexer": "ipython3",
   "version": "3.10.5"
  },
  "vscode": {
   "interpreter": {
    "hash": "a34a21207f2ce0db3116cd2292fdc7281ccb63edb55bd72648ac70c67f93d5eb"
   }
  }
 },
 "nbformat": 4,
 "nbformat_minor": 4
}
